{
  "nbformat": 4,
  "nbformat_minor": 0,
  "metadata": {
    "colab": {
      "provenance": [],
      "collapsed_sections": [
        "rcMR_8RRRDhb"
      ],
      "include_colab_link": true
    },
    "kernelspec": {
      "name": "python3",
      "display_name": "Python 3"
    },
    "language_info": {
      "name": "python"
    }
  },
  "cells": [
    {
      "cell_type": "markdown",
      "metadata": {
        "id": "view-in-github",
        "colab_type": "text"
      },
      "source": [
        "<a href=\"https://colab.research.google.com/github/Ad-Rian815/Unza_journal_key_word_classification/blob/main/Automatic_Classification_Of_Key_Words_Associated_with_articles_on_Unza_journals.ipynb\" target=\"_parent\"><img src=\"https://colab.research.google.com/assets/colab-badge.svg\" alt=\"Open In Colab\"/></a>"
      ]
    },
    {
      "cell_type": "markdown",
      "source": [
        "# Business Understanding\n"
      ],
      "metadata": {
        "id": "q5BHIcKZFccf"
      }
    },
    {
      "cell_type": "markdown",
      "source": [
        "## 1.1 Problem Statement\n",
        "Currently, keywords associated with research articles in UNZA journals are not automatically organized or classified. This makes it difficult for researchers, students, and librarians to quickly identify relevant articles or track research trends. A manual process is time-consuming, inconsistent, and limits the usefulness of the institutional repository. Navigation of journals will be a piece of cake!"
      ],
      "metadata": {
        "id": "zzXRR53RcVZn"
      }
    },
    {
      "cell_type": "markdown",
      "source": [
        "## 1.2 Business Objectives\n",
        "The goal of this project is to build a system that can automatically classify keywords from articles into meaningful categories (e.g., *Agriculture, Medicine, Computer Science*).  \n",
        "\n",
        "From a real-world perspective, success means:\n",
        "- Improving searchability and retrieval of research articles.\n",
        "- Helping researchers discover related works faster.\n",
        "- Supporting administrators in analyzing research output trends at UNZA."
      ],
      "metadata": {
        "id": "T91ZAsmoREBD"
      }
    },
    {
      "cell_type": "markdown",
      "source": [
        "##1.3 Data Mining Goal\n",
        "  \n",
        "  The technical approach to achieving these objectives is structured into the following data mining goals:\n",
        "\n",
        "   1.**Classification Model Development:** A classification model will be built to  categorize article keywords into predefined classes.\n",
        "\n",
        "  2.**Text Preprocessing:** The raw text data will be prepared for machine learning using standard preprocessing techniques, including tokenization, stop-word removal, and TF-IDF (Term          Frequency-Inverse Document Frequency) for vectorization.\n",
        "\n",
        "  3.**Algorithm Experimentation:** The performance of several classification algorithms will be evaluated to determine the most effective one. The algorithms to be tested include Naïve          Bayes,   Support Vector Machines (SVM), and Decision Trees.\n",
        "  \n",
        "  To wrap things up, the main goal of this project is to build a machine learning model that can automatically classify article keywords. We've broken the work down into two key           parts. First, we'll focus on data preparation by cleaning the text using tokenization and stop-word removal, and then we'll use TF-IDF to turn everything into numbers for the models     to work with.\n",
        "  \n",
        "  For the second part, we'll experiment with different algorithms like Naïve Bayes, SVM, and Decision Trees. By testing them with metrics like precision and F1-score, then we'll           figure out which one is the most accurate. We're hoping that by following these steps, we can successfully create a model that not only classifies keywords effectively but also          shows we've got a solid grasp of the data mining process.\n",
        "\n",
        "   Summary: The workflow involves two main stages.\n",
        "  First, text preprocessing to clean and transform raw keywords into numerical representations.\n",
        "  Second, experimentation with multiple algorithms to identify the most accurate and robust classifier.\n",
        "\n",
        "    1.3.1 Data Preparation\n",
        "       Before building the model the data will be,\n",
        "       Tokenized into smaller units.\n",
        "       Cleaned by removing stop words and irrelevant terms.\n",
        "       Converted into numerical representations using TF-IDF for input into machine learning models."
      ],
      "metadata": {
        "id": "uxUYX_Y1WMRM"
      }
    },
    {
      "cell_type": "markdown",
      "source": [
        "## 1.4 Project Success Criteria\n",
        "- The model should achieve at least **80% accuracy** on the test dataset.\n",
        "- The classification results must be **interpretable and consistent** across different domains.\n",
        "- The classification outputs are clear and be easily explained to non-technical stakeholders.\n",
        "- The system should reduce the time required to organize keywords compared to manual methods."
      ],
      "metadata": {
        "id": "rnDULKNcWVKB"
      }
    },
    {
      "cell_type": "markdown",
      "source": [
        "# Data Understanding\n"
      ],
      "metadata": {
        "id": "UajRKSlpWt91"
      }
    },
    {
      "cell_type": "code",
      "source": [
        "!pip install beautifulsoup4\n",
        "!pip install requests\n",
        "!pip install pandas"
      ],
      "metadata": {
        "colab": {
          "base_uri": "https://localhost:8080/"
        },
        "id": "AV0jOq9SJl-H",
        "outputId": "dc94af95-9aed-4468-fead-2fb19f9d5b2f"
      },
      "execution_count": 1,
      "outputs": [
        {
          "output_type": "stream",
          "name": "stdout",
          "text": [
            "Requirement already satisfied: beautifulsoup4 in /usr/local/lib/python3.12/dist-packages (4.13.4)\n",
            "Requirement already satisfied: soupsieve>1.2 in /usr/local/lib/python3.12/dist-packages (from beautifulsoup4) (2.7)\n",
            "Requirement already satisfied: typing-extensions>=4.0.0 in /usr/local/lib/python3.12/dist-packages (from beautifulsoup4) (4.14.1)\n",
            "Requirement already satisfied: requests in /usr/local/lib/python3.12/dist-packages (2.32.4)\n",
            "Requirement already satisfied: charset_normalizer<4,>=2 in /usr/local/lib/python3.12/dist-packages (from requests) (3.4.3)\n",
            "Requirement already satisfied: idna<4,>=2.5 in /usr/local/lib/python3.12/dist-packages (from requests) (3.10)\n",
            "Requirement already satisfied: urllib3<3,>=1.21.1 in /usr/local/lib/python3.12/dist-packages (from requests) (2.5.0)\n",
            "Requirement already satisfied: certifi>=2017.4.17 in /usr/local/lib/python3.12/dist-packages (from requests) (2025.8.3)\n",
            "Requirement already satisfied: pandas in /usr/local/lib/python3.12/dist-packages (2.2.2)\n",
            "Requirement already satisfied: numpy>=1.26.0 in /usr/local/lib/python3.12/dist-packages (from pandas) (2.0.2)\n",
            "Requirement already satisfied: python-dateutil>=2.8.2 in /usr/local/lib/python3.12/dist-packages (from pandas) (2.9.0.post0)\n",
            "Requirement already satisfied: pytz>=2020.1 in /usr/local/lib/python3.12/dist-packages (from pandas) (2025.2)\n",
            "Requirement already satisfied: tzdata>=2022.7 in /usr/local/lib/python3.12/dist-packages (from pandas) (2025.2)\n",
            "Requirement already satisfied: six>=1.5 in /usr/local/lib/python3.12/dist-packages (from python-dateutil>=2.8.2->pandas) (1.17.0)\n"
          ]
        }
      ]
    },
    {
      "cell_type": "code",
      "source": [
        "from google.colab import drive\n",
        "drive.mount('/content/drive')\n",
        "import requests\n",
        "from bs4 import BeautifulSoup\n",
        "import pandas as pd\n",
        "import time\n",
        "import os # Import the os module\n",
        "\n",
        "BASE_URL = \"https://journals.unza.zm\"\n",
        "\n",
        "def get_journal_links():\n",
        "    response = requests.get(BASE_URL)\n",
        "    soup = BeautifulSoup(response.text, \"html.parser\")\n",
        "    links = []\n",
        "    for a in soup.select(\"a\"):\n",
        "        href = a.get(\"href\")\n",
        "        if href and \"index.php\" in href:\n",
        "            links.append(BASE_URL + href if not href.startswith(\"http\") else href)\n",
        "    return list(set(links))\n",
        "\n",
        "def scrape_articles(journal_url, max_pages=3):\n",
        "    articles = []\n",
        "    for page in range(1, max_pages+1):\n",
        "        url = f\"{journal_url}?page={page}\"\n",
        "        response = requests.get(url)\n",
        "        if response.status_code != 200:\n",
        "            break\n",
        "\n",
        "        soup = BeautifulSoup(response.text, \"html.parser\")\n",
        "        for article in soup.select(\"div.title a\"):\n",
        "            article_url = article.get(\"href\")\n",
        "            article_url = article_url if article_url.startswith(\"http\") else BASE_URL + article_url\n",
        "            article_data = scrape_article_metadata(article_url)\n",
        "            if article_data:\n",
        "                articles.append(article_data)\n",
        "            # polite delay\n",
        "            time.sleep(1)\n",
        "    return articles\n",
        "\n",
        "def _extract_author_names(soup):\n",
        "    # 1) Prefer OJS meta tags (names only)\n",
        "    meta_authors = [m.get(\"content\", \"\").strip()\n",
        "                    for m in soup.select('meta[name=\"citation_author\"]')\n",
        "                    if m.get(\"content\")]\n",
        "    if meta_authors:\n",
        "        # de-dup while preserving order\n",
        "        seen = set()\n",
        "        ordered = []\n",
        "        for a in meta_authors:\n",
        "            if a and a not in seen:\n",
        "                seen.add(a)\n",
        "                ordered.append(a)\n",
        "        return \", \".join(ordered)\n",
        "\n",
        "    # 2) Fall back to elements that specifically hold names\n",
        "    name_selectors = [\n",
        "        \".authors .name\",\n",
        "        \".author .name\",\n",
        "        \"li.authors .name\",\n",
        "        \"div#authors .name\",\n",
        "        \".article-authors .name\",\n",
        "    ]\n",
        "    for sel in name_selectors:\n",
        "        els = [e.get_text(strip=True) for e in soup.select(sel)]\n",
        "        els = [e for e in els if e]\n",
        "        if els:\n",
        "            # remove obvious ORCID ids or emails if any slipped in\n",
        "            cleaned = []\n",
        "            for txt in els:\n",
        "                # strip ORCID URLs/ids and emails in case they appear alongside names\n",
        "\n",
        "                txt = txt.replace(\"ORCID\", \"\")\n",
        "                # very light cleanup without changing the site logic\n",
        "                cleaned.append(txt.strip(\" ,;\"))\n",
        "            # de-dup\n",
        "            seen = set()\n",
        "            ordered = []\n",
        "            for a in cleaned:\n",
        "                if a and a not in seen:\n",
        "                    seen.add(a)\n",
        "                    ordered.append(a)\n",
        "            return \", \".join(ordered)\n",
        "\n",
        "    generic = [e.get_text(strip=True) for e in soup.select(\".authors span, .authors div\")]\n",
        "    if generic:\n",
        "        names = []\n",
        "        for t in generic:\n",
        "            # keep short tokens that look like names (very light heuristic)\n",
        "            if len(t.split()) <= 6 and \"http\" not in t.lower() and \"@\" not in t and \":\" not in t:\n",
        "                names.append(t.strip(\" ,;\"))\n",
        "        # if that yields something believable, join; else return joined generic\n",
        "        if names:\n",
        "            # de-dup\n",
        "            seen = set()\n",
        "            ordered = []\n",
        "            for a in names:\n",
        "                if a and a not in seen:\n",
        "                    seen.add(a)\n",
        "                    ordered.append(a)\n",
        "            return \", \".join(ordered)\n",
        "        return \", \".join(generic)\n",
        "    return None\n",
        "\n",
        "\n",
        "def scrape_article_metadata(article_url):\n",
        "    try:\n",
        "        response = requests.get(article_url)\n",
        "        if response.status_code != 200:\n",
        "            print(f\"Failed to fetch {article_url}: Status {response.status_code}\")\n",
        "            return None\n",
        "\n",
        "        soup = BeautifulSoup(response.text, \"html.parser\")\n",
        "\n",
        "        # Debug\n",
        "        print(f\"\\n--- Debugging {article_url} ---\")\n",
        "\n",
        "        # Title\n",
        "        title = None\n",
        "        title_selectors = [\"h1.page_title\", \"h1\", \".page_title\", \".article-title\", \"h1.title\"]\n",
        "        for selector in title_selectors:\n",
        "            element = soup.select_one(selector)\n",
        "            if element:\n",
        "                title = element.get_text().strip()\n",
        "                print(f\"Title found with selector '{selector}': {title[:50]}...\")\n",
        "                break\n",
        "\n",
        "        # Authors: (names only)\n",
        "        authors = _extract_author_names(soup)\n",
        "        if authors:\n",
        "            print(f\"Authors (names only): {authors}\")\n",
        "        else:\n",
        "            print(\"Authors not found with name-specific selectors; see page for structure.\")\n",
        "\n",
        "\n",
        "        # Abstract\n",
        "        abstract = None\n",
        "        abstract_selectors = [\"div.abstract\", \".abstract\", \".article-abstract\", \"div.description\"]\n",
        "        for selector in abstract_selectors:\n",
        "            element = soup.select_one(selector)\n",
        "            if element:\n",
        "                abstract = element.get_text().strip()\n",
        "                break\n",
        "\n",
        "        # Keywords\n",
        "        keywords = None\n",
        "        keyword_selectors = [\"div.keywords\", \".keywords\", \".article-keywords\", \".tags\"]\n",
        "        for selector in keyword_selectors:\n",
        "            element = soup.select_one(selector)\n",
        "            if element:\n",
        "                keywords = element.get_text().strip()\n",
        "                break\n",
        "\n",
        "        return {\n",
        "            \"title\": title,\n",
        "            \"authors\": authors,\n",
        "            \"abstract\": abstract,\n",
        "            \"keywords\": keywords,\n",
        "            \"url\": article_url\n",
        "        }\n",
        "\n",
        "    except Exception as e:\n",
        "        print(f\"Error scraping {article_url}: {str(e)}\")\n",
        "        return None\n",
        "\n",
        "\n",
        "if __name__ == \"__main__\":\n",
        "    journal_links = get_journal_links()\n",
        "    print(f\"Found {len(journal_links)} journals\")\n",
        "\n",
        "    all_articles = []\n",
        "    for journal in journal_links[:2]:\n",
        "        print(f\"\\nScraping {journal} ...\")\n",
        "        articles = scrape_articles(journal, max_pages=1)\n",
        "        all_articles.extend(articles)\n",
        "        if len(all_articles) >= 5:\n",
        "            break\n",
        "\n",
        "    df = pd.DataFrame(all_articles)\n",
        "\n",
        "    # Define the directory path\n",
        "    save_directory = \"/content/drive/My Drive/misc-unza25-csc4792-project_team9\"\n",
        "\n",
        "    # Create the directory if it doesn't exist\n",
        "    if not os.path.exists(save_directory):\n",
        "        os.makedirs(save_directory)\n",
        "        print(f\"Created directory: {save_directory}\")\n",
        "\n",
        "\n",
        "    df.to_csv(os.path.join(save_directory, \"unza_journals.csv\"), index=False)\n",
        "\n",
        "\n",
        "    print(f\"\\n--- SUMMARY ---\")\n",
        "    print(f\"Total articles scraped: {len(all_articles)}\")\n",
        "    print(f\"Articles with authors: {len([a for a in all_articles if a['authors']])}\")\n",
        "    print(f\"Articles with titles: {len([a for a in all_articles if a['title']])}\")\n",
        "\n",
        "\n",
        "    for i, article in enumerate(all_articles[:3]):\n",
        "        print(f\"\\nArticle {i+1}:\")\n",
        "        for key, value in article.items():\n",
        "            if value:\n",
        "                print(f\"  {key}: {str(value)[:100]}{'...' if len(str(value)) > 100 else ''}\")\n",
        "\n",
        "    print(\"Debug scraping completed. Data saved to unza_journals.csv\")"
      ],
      "metadata": {
        "id": "u0Tp-kH5omu6",
        "colab": {
          "base_uri": "https://localhost:8080/"
        },
        "outputId": "53fde70a-1b95-4c07-d8ba-00b022c3b455"
      },
      "execution_count": 2,
      "outputs": [
        {
          "output_type": "stream",
          "name": "stdout",
          "text": [
            "Mounted at /content/drive\n",
            "Found 34 journals\n",
            "\n",
            "Scraping https://journals.unza.zm/index.php/ZJRCI/issue/current ...\n",
            "\n",
            "--- Debugging https://journals.unza.zm/index.php/ZJRCI/article/view/1076 ---\n",
            "Title found with selector 'h1.page_title': Exploring Reasons Against Naming Children after De...\n",
            "Authors (names only): Alfred Kapepe\n",
            "\n",
            "--- Debugging https://journals.unza.zm/index.php/ZJRCI/article/view/1231 ---\n",
            "Title found with selector 'h1.page_title': Navigating Moral Dilemmas Using African Indigenous...\n",
            "Authors (names only): Armstrong Chanda, Alfred Kapepe, Lwao Chilambwe, Audrey Muyuni, Ireen Moonga\n",
            "\n",
            "--- Debugging https://journals.unza.zm/index.php/ZJRCI/article/view/1230 ---\n",
            "Title found with selector 'h1.page_title': Mystical Powers in Bemba Cosmology: Exploring the ...\n",
            "Authors (names only): Armstrong Chanda\n",
            "\n",
            "--- Debugging https://journals.unza.zm/index.php/ZJRCI/article/view/1330 ---\n",
            "Title found with selector 'h1.page_title': Perceptions of School Administrators, Teachers and...\n",
            "Authors (names only): Patrick Bwalya, Austin Cheyeka\n",
            "\n",
            "--- Debugging https://journals.unza.zm/index.php/ZJRCI/article/view/1287 ---\n",
            "Title found with selector 'h1.page_title': Response of the United Church of Zambia to the Con...\n",
            "Authors (names only): Derrick Kalanga, Gosnell L. Yorke, Rosemary Chilufya\n",
            "\n",
            "--- SUMMARY ---\n",
            "Total articles scraped: 5\n",
            "Articles with authors: 5\n",
            "Articles with titles: 5\n",
            "\n",
            "Article 1:\n",
            "  title: Exploring Reasons Against Naming Children after Deceased Members of the Lineage in Pentecostal Churc...\n",
            "  authors: Alfred Kapepe\n",
            "  abstract: Abstract\n",
            "\t\t\t\t\tThe act of naming both living and non-living things is as old as humankind. Biblically...\n",
            "  keywords: Keywords:\n",
            "\t\t\t\t\n",
            "\n",
            "\t\t\t\t\t\t\t\t\t\t\t\t\t\t\t\t\t\tChurch, Pentecostal Churches, Beliefs, Names, Naming, Children, De...\n",
            "  url: https://journals.unza.zm/index.php/ZJRCI/article/view/1076\n",
            "\n",
            "Article 2:\n",
            "  title: Navigating Moral Dilemmas Using African Indigenous Ethics: Students’ Experiences in Higher Learning ...\n",
            "  authors: Armstrong Chanda, Alfred Kapepe, Lwao Chilambwe, Audrey Muyuni, Ireen Moonga\n",
            "  abstract: Abstract\n",
            "\t\t\t\t\tThis study aimed to explore how students in higher learning institutions navigate mora...\n",
            "  keywords: Keywords:\n",
            "\t\t\t\t\n",
            "\n",
            "\t\t\t\t\t\t\t\t\t\t\t\t\t\t\t\t\t\tCulture, \t\t\t\t\t\t\t\t\t\t\t\t\tMoral Dilemma, \t\t\t\t\t\t\t\t\t\t\t\t\tMoral Values, \t\t...\n",
            "  url: https://journals.unza.zm/index.php/ZJRCI/article/view/1231\n",
            "\n",
            "Article 3:\n",
            "  title: Mystical Powers in Bemba Cosmology: Exploring the Influence on Bemba Catholics, Implication on Faith...\n",
            "  authors: Armstrong Chanda\n",
            "  abstract: Abstract\n",
            "\t\t\t\t\tThis study investigated the influence of Bemba Traditional Religious belief in mystica...\n",
            "  keywords: Keywords:\n",
            "\t\t\t\t\n",
            "\n",
            "\t\t\t\t\t\t\t\t\t\t\t\t\t\t\t\t\t\tMystical powers, \t\t\t\t\t\t\t\t\t\t\t\t\tRituals, \t\t\t\t\t\t\t\t\t\t\t\t\tManifestation,...\n",
            "  url: https://journals.unza.zm/index.php/ZJRCI/article/view/1230\n",
            "Debug scraping completed. Data saved to unza_journals.csv\n"
          ]
        }
      ]
    },
    {
      "cell_type": "code",
      "source": [
        "!ls \"/content/drive/My Drive\""
      ],
      "metadata": {
        "colab": {
          "base_uri": "https://localhost:8080/"
        },
        "id": "UEjzkonXOZVv",
        "outputId": "bfba37ed-c5a9-4205-b9e3-3304053efd7f"
      },
      "execution_count": null,
      "outputs": [
        {
          "output_type": "stream",
          "name": "stdout",
          "text": [
            " 02010_PPT_ch01.gslides\n",
            " 02010_PPT_ch02.gslides\n",
            " 02010_PPT_ch03.gslides\n",
            " 02010_PPT_ch04.gslides\n",
            " 02010_PPT_ch05.gslides\n",
            " 02010_PPT_ch06.gslides\n",
            " 02010_PPT_ch07.gslides\n",
            "'4035 Lab 5.gdoc'\n",
            "'AI Topic 1.gdoc'\n",
            " Classroom\n",
            "'Colab Notebooks'\n",
            "'CSC 2101 - Subnetting Network Topology.gdoc'\n",
            "'csc2111 iassm.docx'\n",
            " CSC2702_ASSIGNMENT4.gdoc\n",
            " CSC3301\n",
            "'CSC 4631'\n",
            "'CSC 4631 Lab 4: Estimating Software Maintenance Cost and Effort.gdoc'\n",
            "'CSC 4631 Lab 5 – Tiered Maintenance & Escalation: Issue Resolution Log.gdoc'\n",
            "'Database Processing (1).gdoc'\n",
            "'Database Processing.gdoc'\n",
            "'Database Systems (1).gdoc'\n",
            "'Database Systems.gdoc'\n",
            "'Lab 5 - 4035 (1).mp4'\n",
            "'Lab 5 - 4035.mp4'\n",
            " misc-unza25-csc4792-project_team9\n",
            "'Operating System Concepts - 9th Edition.gdoc'\n",
            " Resume.gdoc\n",
            "'Student Registration System - Documentation.zip'\n",
            "'Student Registration System - Documention.zip'\n",
            " TEST1_ADRIAN_PHIRI_2021397963.gdoc\n",
            "'UNZA SIS Mobile.pptx'\n"
          ]
        }
      ]
    },
    {
      "cell_type": "code",
      "source": [
        "import pandas as pd\n",
        "\n",
        "# Load dataset\n",
        "df = pd.read_csv(\"/content/drive/My Drive/misc-unza25-csc4792-project_team9/unza_journals.csv\")\n",
        "\n",
        "# Show first 5 rows to confirm load\n",
        "print(df.head())\n"
      ],
      "metadata": {
        "colab": {
          "base_uri": "https://localhost:8080/"
        },
        "id": "TVtzFuYxE_VI",
        "outputId": "fba9cff1-47da-4965-800e-04ce44c1006b"
      },
      "execution_count": null,
      "outputs": [
        {
          "output_type": "stream",
          "name": "stdout",
          "text": [
            "                                               title  \\\n",
            "0  Sources of Official Poverty Data: Reflections ...   \n",
            "1  Assembling a National Colonial Archive: Consid...   \n",
            "2  A Review of Import Substitution Industrialisat...   \n",
            "3  Dissent and Opposition to One Party System in ...   \n",
            "4  Precolonial Foundations of One Zambia, One Nat...   \n",
            "\n",
            "                              authors  \\\n",
            "0                       Mbozi Santebe   \n",
            "1                  Miyanda Simabwachi   \n",
            "2                       Chisulo Phiri   \n",
            "3  Justina Namukombo, Ng’wanza Kamata   \n",
            "4  Mutale T Mazimba, Ackson M Kanduza   \n",
            "\n",
            "                                            abstract  \\\n",
            "0  Abstract\\n\\t\\t\\t\\t\\tThis article explores the ...   \n",
            "1  Abstract\\n\\t\\t\\t\\t\\tDrawing mainly from origin...   \n",
            "2  Abstract\\n\\t\\t\\t\\t\\tIn 1964, Zambia’s economy ...   \n",
            "3  Abstract\\n\\t\\t\\t\\t\\tDissent and opposition to ...   \n",
            "4  Abstract\\n\\t\\t\\t\\t\\tCommunity cousinship refer...   \n",
            "\n",
            "                                            keywords  \\\n",
            "0  Keywords:\\n\\t\\t\\t\\t\\n\\n\\t\\t\\t\\t\\t\\t\\t\\t\\t\\t\\t\\...   \n",
            "1  Keywords:\\n\\t\\t\\t\\t\\n\\n\\t\\t\\t\\t\\t\\t\\t\\t\\t\\t\\t\\...   \n",
            "2  Keywords:\\n\\t\\t\\t\\t\\n\\n\\t\\t\\t\\t\\t\\t\\t\\t\\t\\t\\t\\...   \n",
            "3  Keywords:\\n\\t\\t\\t\\t\\n\\n\\t\\t\\t\\t\\t\\t\\t\\t\\t\\t\\t\\...   \n",
            "4  Keywords:\\n\\t\\t\\t\\t\\n\\n\\t\\t\\t\\t\\t\\t\\t\\t\\t\\t\\t\\...   \n",
            "\n",
            "                                                 url  \n",
            "0  https://journals.unza.zm/index.php/zjh/article...  \n",
            "1  https://journals.unza.zm/index.php/zjh/article...  \n",
            "2  https://journals.unza.zm/index.php/zjh/article...  \n",
            "3  https://journals.unza.zm/index.php/zjh/article...  \n",
            "4  https://journals.unza.zm/index.php/zjh/article...  \n"
          ]
        }
      ]
    },
    {
      "cell_type": "code",
      "source": [
        "print(\"=== Shape ===\")\n",
        "print(df.shape)\n",
        "\n",
        "print(\"\\n=== Info ===\")\n",
        "print(df.info())\n",
        "\n",
        "print(\"\\n=== Missing Values ===\")\n",
        "print(df.isnull().sum())\n",
        "\n",
        "print(\"\\n=== First Rows ===\")\n",
        "print(df.head())\n"
      ],
      "metadata": {
        "colab": {
          "base_uri": "https://localhost:8080/"
        },
        "id": "cpTXV3LMQyY9",
        "outputId": "d849d5f5-6ad5-4d29-80c1-8bc2848c45ed"
      },
      "execution_count": null,
      "outputs": [
        {
          "output_type": "stream",
          "name": "stdout",
          "text": [
            "=== Shape ===\n",
            "(5, 5)\n",
            "\n",
            "=== Info ===\n",
            "<class 'pandas.core.frame.DataFrame'>\n",
            "RangeIndex: 5 entries, 0 to 4\n",
            "Data columns (total 5 columns):\n",
            " #   Column    Non-Null Count  Dtype \n",
            "---  ------    --------------  ----- \n",
            " 0   title     5 non-null      object\n",
            " 1   authors   5 non-null      object\n",
            " 2   abstract  5 non-null      object\n",
            " 3   keywords  5 non-null      object\n",
            " 4   url       5 non-null      object\n",
            "dtypes: object(5)\n",
            "memory usage: 332.0+ bytes\n",
            "None\n",
            "\n",
            "=== Missing Values ===\n",
            "title       0\n",
            "authors     0\n",
            "abstract    0\n",
            "keywords    0\n",
            "url         0\n",
            "dtype: int64\n",
            "\n",
            "=== First Rows ===\n",
            "                                               title  \\\n",
            "0  Sources of Official Poverty Data: Reflections ...   \n",
            "1  Assembling a National Colonial Archive: Consid...   \n",
            "2  A Review of Import Substitution Industrialisat...   \n",
            "3  Dissent and Opposition to One Party System in ...   \n",
            "4  Precolonial Foundations of One Zambia, One Nat...   \n",
            "\n",
            "                              authors  \\\n",
            "0                       Mbozi Santebe   \n",
            "1                  Miyanda Simabwachi   \n",
            "2                       Chisulo Phiri   \n",
            "3  Justina Namukombo, Ng’wanza Kamata   \n",
            "4  Mutale T Mazimba, Ackson M Kanduza   \n",
            "\n",
            "                                            abstract  \\\n",
            "0  Abstract\\n\\t\\t\\t\\t\\tThis article explores the ...   \n",
            "1  Abstract\\n\\t\\t\\t\\t\\tDrawing mainly from origin...   \n",
            "2  Abstract\\n\\t\\t\\t\\t\\tIn 1964, Zambia’s economy ...   \n",
            "3  Abstract\\n\\t\\t\\t\\t\\tDissent and opposition to ...   \n",
            "4  Abstract\\n\\t\\t\\t\\t\\tCommunity cousinship refer...   \n",
            "\n",
            "                                            keywords  \\\n",
            "0  Keywords:\\n\\t\\t\\t\\t\\n\\n\\t\\t\\t\\t\\t\\t\\t\\t\\t\\t\\t\\...   \n",
            "1  Keywords:\\n\\t\\t\\t\\t\\n\\n\\t\\t\\t\\t\\t\\t\\t\\t\\t\\t\\t\\...   \n",
            "2  Keywords:\\n\\t\\t\\t\\t\\n\\n\\t\\t\\t\\t\\t\\t\\t\\t\\t\\t\\t\\...   \n",
            "3  Keywords:\\n\\t\\t\\t\\t\\n\\n\\t\\t\\t\\t\\t\\t\\t\\t\\t\\t\\t\\...   \n",
            "4  Keywords:\\n\\t\\t\\t\\t\\n\\n\\t\\t\\t\\t\\t\\t\\t\\t\\t\\t\\t\\...   \n",
            "\n",
            "                                                 url  \n",
            "0  https://journals.unza.zm/index.php/zjh/article...  \n",
            "1  https://journals.unza.zm/index.php/zjh/article...  \n",
            "2  https://journals.unza.zm/index.php/zjh/article...  \n",
            "3  https://journals.unza.zm/index.php/zjh/article...  \n",
            "4  https://journals.unza.zm/index.php/zjh/article...  \n"
          ]
        }
      ]
    },
    {
      "cell_type": "code",
      "source": [
        "import matplotlib.pyplot as plt\n",
        "import seaborn as sns\n",
        "from collections import Counter\n",
        "\n",
        "# Split multiple authors into list\n",
        "all_authors = []\n",
        "for a in df['authors'].dropna():\n",
        "    for name in a.split(\",\"):\n",
        "        all_authors.append(name.strip())\n",
        "\n",
        "author_counts = Counter(all_authors).most_common(10)\n",
        "\n",
        "# Plot top 10 authors\n",
        "plt.figure(figsize=(8,5))\n",
        "sns.barplot(x=[c[1] for c in author_counts], y=[c[0] for c in author_counts])\n",
        "plt.title(\"Top 10 Most Frequent Authors\")\n",
        "plt.xlabel(\"Number of Articles\")\n",
        "plt.ylabel(\"Author\")\n",
        "plt.show()\n"
      ],
      "metadata": {
        "colab": {
          "base_uri": "https://localhost:8080/",
          "height": 487
        },
        "id": "BgaDmyTyRAbh",
        "outputId": "94a2e7d6-e6dd-4942-d02d-9b5da10d7b64"
      },
      "execution_count": null,
      "outputs": [
        {
          "output_type": "display_data",
          "data": {
            "text/plain": [
              "<Figure size 800x500 with 1 Axes>"
            ],
            "image/png": "[encoded data removed]"
          },
          "metadata": {}
        }
      ]
    },
    {
      "cell_type": "markdown",
      "source": [
        "import pandas as pd\n",
        "import matplotlib.pyplot as plt\n",
        "import seaborn as sns\n",
        "\n",
        "### Load dataset\n",
        "try:\n",
        "    df = pd.read_csv(\"/content/drive/My Drive/misc-unza25-csc4792-project_team9/unza_journals.csv\")\n",
        "except FileNotFoundError:\n",
        "    print(\"Error: 'unza_journals.csv' not found. Please ensure the file is in the correct directory.\")\n",
        "    # Optionally, exit or handle the error further if the dataframe is essential\n",
        "    exit() # Or some other error handling\n",
        "\n",
        "\n",
        "df[\"abstract_wordcount\"] = df[\"abstract\"].dropna().apply(lambda x: len(str(x).split()))\n",
        "\n",
        "plt.figure(figsize=(8,5))\n",
        "sns.histplot(df[\"abstract_wordcount\"], bins=20, kde=True)\n",
        "plt.title(\"Distribution of Abstract Lengths (Word Count)\")\n",
        "plt.xlabel(\"Word Count\")\n",
        "plt.ylabel(\"Number of Articles\")\n",
        "plt.show()"
      ],
      "metadata": {
        "id": "rcMR_8RRRDhb"
      }
    },
    {
      "cell_type": "code",
      "source": [
        "all_keywords = []\n",
        "for k in df['keywords'].dropna():\n",
        "    for word in k.replace(\"Keywords:\", \"\").replace(\"\\n\",\"\").split(\",\"):\n",
        "        word = word.strip().lower()\n",
        "        if word:\n",
        "            all_keywords.append(word)\n",
        "\n",
        "keyword_counts = Counter(all_keywords).most_common(15)\n",
        "\n",
        "plt.figure(figsize=(8,5))\n",
        "sns.barplot(x=[c[1] for c in keyword_counts], y=[c[0] for c in keyword_counts])\n",
        "plt.title(\"Top 15 Keywords Across Articles\")\n",
        "plt.xlabel(\"Frequency\")\n",
        "plt.ylabel(\"Keyword\")\n",
        "plt.show()\n"
      ],
      "metadata": {
        "colab": {
          "base_uri": "https://localhost:8080/",
          "height": 487
        },
        "id": "bMGq3xFpRNDC",
        "outputId": "c7903dc2-4593-4d95-c904-8979e0ced4ca"
      },
      "execution_count": null,
      "outputs": [
        {
          "output_type": "display_data",
          "data": {
            "text/plain": [
              "<Figure size 800x500 with 1 Axes>"
            ],
            "image/png": "[encoded data removed]"
          },
          "metadata": {}
        }
      ]
    },
    {
      "cell_type": "code",
      "source": [
        "# Clean keywords column\n",
        "df[\"keywords\"] = (\n",
        "    df[\"keywords\"]\n",
        "    .fillna(\"\")\n",
        "    .str.replace(\"Keywords:\", \"\", regex=False)   # remove the prefix\n",
        "    .str.replace(r\"\\s+\", \" \", regex=True)        # collapse whitespace\n",
        "    .str.strip()                                 # trim leading/trailing spaces\n",
        ")\n"
      ],
      "metadata": {
        "id": "Dp_xNsuMRuKb"
      },
      "execution_count": null,
      "outputs": []
    },
    {
      "cell_type": "code",
      "source": [
        "# Clean keywords column\n",
        "df[\"abstract\"] = (\n",
        "    df[\"abstract\"]\n",
        "    .fillna(\"\")\n",
        "    .str.replace(\"abstract:\", \"\", regex=False)   # remove the prefix\n",
        "    .str.replace(r\"\\s+\", \" \", regex=True)        # collapse whitespace\n",
        "    .str.strip()                                 # trim leading/trailing spaces\n",
        ")\n"
      ],
      "metadata": {
        "id": "cdM9TDH3TySs"
      },
      "execution_count": null,
      "outputs": []
    },
    {
      "cell_type": "code",
      "source": [
        "import pandas as pd\n",
        "from collections import Counter\n",
        "\n",
        "def generate_summary(df):\n",
        "    summary = []\n",
        "\n",
        "    # Dataset shape\n",
        "    rows, cols = df.shape\n",
        "    summary.append(f\"The dataset contains **{rows} articles** with **{cols} columns**.\")\n",
        "\n",
        "    # Missing values\n",
        "    missing = df.isnull().sum()\n",
        "    missing_cols = missing[missing > 0]\n",
        "    if not missing_cols.empty:\n",
        "        summary.append(\"Some columns have missing values:\")\n",
        "        for col, val in missing_cols.items():\n",
        "            summary.append(f\"- {col}: {val} missing\")\n",
        "    else:\n",
        "        summary.append(\" There are no missing values in the dataset.\")\n",
        "\n",
        "    # Abstract word count\n",
        "    df[\"abstract_wordcount\"] = df[\"abstract\"].fillna(\"\").apply(lambda x: len(str(x).split()))\n",
        "    avg_len = df[\"abstract_wordcount\"].mean()\n",
        "    summary.append(f\" Abstracts have an average length of about **{avg_len:.0f} words**.\")\n",
        "\n",
        "    # Top authors\n",
        "    all_authors = []\n",
        "    for a in df['authors'].dropna():\n",
        "        for name in a.split(\",\"):\n",
        "            all_authors.append(name.strip())\n",
        "    author_counts = Counter(all_authors).most_common(5)\n",
        "    if author_counts:\n",
        "        summary.append(\"The most frequent authors are:\")\n",
        "        for name, count in author_counts:\n",
        "            summary.append(f\"- {name}: {count} article(s)\")\n",
        "\n",
        "    # Clean and extract keywords\n",
        "    df[\"keywords\"] = (\n",
        "        df[\"keywords\"]\n",
        "        .fillna(\"\")\n",
        "        .str.replace(\"Keywords:\", \"\", regex=False)\n",
        "        .str.replace(r\"\\s+\", \" \", regex=True)\n",
        "        .str.strip()\n",
        "    )\n",
        "    all_keywords = []\n",
        "    for k in df['keywords']:\n",
        "        for word in k.split(\",\"):\n",
        "            word = word.strip().lower()\n",
        "            if word:\n",
        "                all_keywords.append(word)\n",
        "    keyword_counts = Counter(all_keywords).most_common(5)\n",
        "    if keyword_counts:\n",
        "        summary.append(\"The most common keywords are:\")\n",
        "        for word, count in keyword_counts:\n",
        "            summary.append(f\"- {word}: {count} occurrence(s)\")\n",
        "\n",
        "    return \"\\n\".join(summary)\n",
        "\n",
        "# === Create summary ===\n",
        "print(generate_summary(df))"
      ],
      "metadata": {
        "colab": {
          "base_uri": "https://localhost:8080/"
        },
        "id": "0y2w3AnqSKEi",
        "outputId": "bd7f752a-5626-4445-8c2a-7d4a87d4434e"
      },
      "execution_count": null,
      "outputs": [
        {
          "output_type": "stream",
          "name": "stdout",
          "text": [
            "The dataset contains **6 articles** with **5 columns**.\n",
            " There are no missing values in the dataset.\n",
            " Abstracts have an average length of about **244 words**.\n",
            "The most frequent authors are:\n",
            "- Noah K Sichula: 3 article(s)\n",
            "- Musonda Luchembe: 2 article(s)\n",
            "- Emmy H Mbozi: 2 article(s)\n",
            "- Mbale G Tamela: 1 article(s)\n",
            "- Madalitso K Banja: 1 article(s)\n",
            "The most common keywords are:\n",
            "- access to opportunities: 1 occurrence(s)\n",
            "- gender: 1 occurrence(s)\n",
            "- gender stereotyping: 1 occurrence(s)\n",
            "- male domination: 1 occurrence(s)\n",
            "- sports administration and leadership: 1 occurrence(s)\n"
          ]
        }
      ]
    },
    {
      "cell_type": "markdown",
      "source": [
        "### initial Summary\n",
        "The dataset contains **18 articles** with **6 columns**.\n",
        " There are no missing values in the dataset.\n",
        " Abstracts have an average length of about **275 words**.\n",
        "The most frequent authors are:\n",
        "- Brian Chanda Chiluba: 2 article(s)\n",
        "- Esther Munalula Nkandu: 2 article(s)\n",
        "- Munalula Muyangwa Munalula: 2 article(s)\n",
        "- Kris Kapp: 2 article(s)\n",
        "- Kweleka Mwanza: 1 article(s)\n",
        "The most common keywords are:\n",
        "- covid-19: 6 occurrence(s)\n",
        "- disability: 3 occurrence(s)\n",
        "- adolescent reproductive health: 2 occurrence(s)\n",
        "- anthrax: 1 occurrence(s)\n",
        "- bacillus anthracis: 1 occurrence(s)"
      ],
      "metadata": {
        "id": "aXChDRX3Sg4p"
      }
    },
    {
      "cell_type": "markdown",
      "source": [
        "# Data Preparation\n"
      ],
      "metadata": {
        "id": "8VISFNia0Lxq"
      }
    },
    {
      "cell_type": "markdown",
      "source": [
        "Set up the environment and load the data:"
      ],
      "metadata": {
        "id": "I7F5km33Cevk"
      }
    },
    {
      "cell_type": "code",
      "source": [
        "import pandas as pd\n",
        "import numpy as np\n",
        "import matplotlib.pyplot as plt\n",
        "import seaborn as sns\n",
        "import re\n",
        "from sklearn.preprocessing import LabelEncoder, StandardScaler\n",
        "from sklearn.feature_extraction.text import TfidfVectorizer\n",
        "import nltk\n",
        "from nltk.corpus import stopwords\n",
        "from nltk.stem import WordNetLemmatizer\n",
        "\n",
        "nltk.download('stopwords')\n",
        "nltk.download('wordnet')\n",
        "nltk.download('punkt')\n",
        "\n",
        "plt.style.use('seaborn-v0_8')\n",
        "try:\n",
        "    df = pd.read_csv(\"/content/drive/My Drive/misc-unza25-csc4792-project_team9/unza_journals.csv\")\n",
        "    print(\"Dataset loaded successfully!\")\n",
        "    print(f\"Shape: {df.shape}\")\n",
        "    print(\"\\nColumns:\", df.columns.tolist())\n",
        "except FileNotFoundError:\n",
        "    print(\"Error: 'unza_journals.csv' not found. Please ensure the file is in the correct directory.\")\n",
        "    exit()\n",
        "except Exception as e:\n",
        "    print(f\"An error occurred: {e}\")\n",
        "    exit()"
      ],
      "metadata": {
        "colab": {
          "base_uri": "https://localhost:8080/"
        },
        "id": "aI2b3ktDCgG-",
        "outputId": "f9c98bc9-e079-4997-cb58-47206f22bd16"
      },
      "execution_count": 3,
      "outputs": [
        {
          "output_type": "stream",
          "name": "stdout",
          "text": [
            "Dataset loaded successfully!\n",
            "Shape: (5, 5)\n",
            "\n",
            "Columns: ['title', 'authors', 'abstract', 'keywords', 'url']\n"
          ]
        },
        {
          "output_type": "stream",
          "name": "stderr",
          "text": [
            "[nltk_data] Downloading package stopwords to /root/nltk_data...\n",
            "[nltk_data]   Package stopwords is already up-to-date!\n",
            "[nltk_data] Downloading package wordnet to /root/nltk_data...\n",
            "[nltk_data]   Package wordnet is already up-to-date!\n",
            "[nltk_data] Downloading package punkt to /root/nltk_data...\n",
            "[nltk_data]   Package punkt is already up-to-date!\n"
          ]
        }
      ]
    },
    {
      "cell_type": "markdown",
      "source": [
        "\n",
        "Display basic information about the dataset"
      ],
      "metadata": {
        "id": "bf1-U8lkDd_o"
      }
    },
    {
      "cell_type": "code",
      "source": [
        "print(\"Dataset Info:\")\n",
        "print(df.info())\n",
        "print(\"\\nFirst 5 rows:\")\n",
        "print(df.head())\n",
        "print(\"\\nMissing values:\")\n",
        "print(df.isnull().sum())"
      ],
      "metadata": {
        "colab": {
          "base_uri": "https://localhost:8080/"
        },
        "id": "8odQsguMDk3K",
        "outputId": "c2045365-6772-48fc-f650-aabc8c88ef75"
      },
      "execution_count": 4,
      "outputs": [
        {
          "output_type": "stream",
          "name": "stdout",
          "text": [
            "Dataset Info:\n",
            "<class 'pandas.core.frame.DataFrame'>\n",
            "RangeIndex: 5 entries, 0 to 4\n",
            "Data columns (total 5 columns):\n",
            " #   Column    Non-Null Count  Dtype \n",
            "---  ------    --------------  ----- \n",
            " 0   title     5 non-null      object\n",
            " 1   authors   5 non-null      object\n",
            " 2   abstract  5 non-null      object\n",
            " 3   keywords  5 non-null      object\n",
            " 4   url       5 non-null      object\n",
            "dtypes: object(5)\n",
            "memory usage: 332.0+ bytes\n",
            "None\n",
            "\n",
            "First 5 rows:\n",
            "                                               title  \\\n",
            "0  Exploring Reasons Against Naming Children afte...   \n",
            "1  Navigating Moral Dilemmas Using African Indige...   \n",
            "2  Mystical Powers in Bemba Cosmology: Exploring ...   \n",
            "3  Perceptions of School Administrators, Teachers...   \n",
            "4  Response of the United Church of Zambia to the...   \n",
            "\n",
            "                                             authors  \\\n",
            "0                                      Alfred Kapepe   \n",
            "1  Armstrong Chanda, Alfred Kapepe, Lwao Chilambw...   \n",
            "2                                   Armstrong Chanda   \n",
            "3                     Patrick Bwalya, Austin Cheyeka   \n",
            "4  Derrick Kalanga, Gosnell L. Yorke, Rosemary Ch...   \n",
            "\n",
            "                                            abstract  \\\n",
            "0  Abstract\\n\\t\\t\\t\\t\\tThe act of naming both liv...   \n",
            "1  Abstract\\n\\t\\t\\t\\t\\tThis study aimed to explor...   \n",
            "2  Abstract\\n\\t\\t\\t\\t\\tThis study investigated th...   \n",
            "3  Abstract\\n\\t\\t\\t\\t\\tIn Zambia, there has been ...   \n",
            "4  Abstract\\n\\t\\t\\t\\t\\tThis article investigates ...   \n",
            "\n",
            "                                            keywords  \\\n",
            "0  Keywords:\\n\\t\\t\\t\\t\\n\\n\\t\\t\\t\\t\\t\\t\\t\\t\\t\\t\\t\\...   \n",
            "1  Keywords:\\n\\t\\t\\t\\t\\n\\n\\t\\t\\t\\t\\t\\t\\t\\t\\t\\t\\t\\...   \n",
            "2  Keywords:\\n\\t\\t\\t\\t\\n\\n\\t\\t\\t\\t\\t\\t\\t\\t\\t\\t\\t\\...   \n",
            "3  Keywords:\\n\\t\\t\\t\\t\\n\\n\\t\\t\\t\\t\\t\\t\\t\\t\\t\\t\\t\\...   \n",
            "4  Keywords:\\n\\t\\t\\t\\t\\n\\n\\t\\t\\t\\t\\t\\t\\t\\t\\t\\t\\t\\...   \n",
            "\n",
            "                                                 url  \n",
            "0  https://journals.unza.zm/index.php/ZJRCI/artic...  \n",
            "1  https://journals.unza.zm/index.php/ZJRCI/artic...  \n",
            "2  https://journals.unza.zm/index.php/ZJRCI/artic...  \n",
            "3  https://journals.unza.zm/index.php/ZJRCI/artic...  \n",
            "4  https://journals.unza.zm/index.php/ZJRCI/artic...  \n",
            "\n",
            "Missing values:\n",
            "title       0\n",
            "authors     0\n",
            "abstract    0\n",
            "keywords    0\n",
            "url         0\n",
            "dtype: int64\n"
          ]
        }
      ]
    },
    {
      "cell_type": "markdown",
      "source": [
        "#Data Cleaning"
      ],
      "metadata": {
        "id": "aOAaWiiID3QY"
      }
    },
    {
      "cell_type": "code",
      "source": [
        "df_clean = df.copy()\n",
        "\n",
        "print(\"Missing values before cleaning:\")\n",
        "print(df_clean.isnull().sum())\n",
        "\n",
        "text_columns = ['title', 'abstract', 'keywords', 'authors']\n",
        "for col in text_columns:\n",
        "    if col in df_clean.columns:\n",
        "        df_clean[col] = df_clean[col].fillna('')\n",
        "\n",
        "print(\"\\nMissing values after cleaning:\")\n",
        "print(df_clean.isnull().sum())\n",
        "\n",
        "# Clean text data function\n",
        "def clean_text(text):\n",
        "    if pd.isna(text):\n",
        "        return \"\"\n",
        "    text = str(text)\n",
        "    # Remove special characters and digits\n",
        "    text = re.sub(r'[^a-zA-Z\\s]', '', text)\n",
        "    # Convert to lowercase\n",
        "    text = text.lower()\n",
        "    # Remove extra whitespace\n",
        "    text = re.sub(r'\\s+', ' ', text).strip()\n",
        "    return text\n",
        "for col in ['title', 'abstract', 'keywords']:\n",
        "    if col in df_clean.columns:\n",
        "        df_clean[col] = df_clean[col].apply(clean_text)\n",
        "        print(f\"Cleaned {col} column\")\n",
        "\n",
        "print(\"\\nSample of cleaned abstract:\")\n",
        "print(df_clean['abstract'].head(2))"
      ],
      "metadata": {
        "colab": {
          "base_uri": "https://localhost:8080/"
        },
        "id": "EimBGfc7D5xH",
        "outputId": "61bd2e9f-b5e2-4304-c504-122629a4cce3"
      },
      "execution_count": 5,
      "outputs": [
        {
          "output_type": "stream",
          "name": "stdout",
          "text": [
            "Missing values before cleaning:\n",
            "title       0\n",
            "authors     0\n",
            "abstract    0\n",
            "keywords    0\n",
            "url         0\n",
            "dtype: int64\n",
            "\n",
            "Missing values after cleaning:\n",
            "title       0\n",
            "authors     0\n",
            "abstract    0\n",
            "keywords    0\n",
            "url         0\n",
            "dtype: int64\n",
            "Cleaned title column\n",
            "Cleaned abstract column\n",
            "Cleaned keywords column\n",
            "\n",
            "Sample of cleaned abstract:\n",
            "0    abstract the act of naming both living and non...\n",
            "1    abstract this study aimed to explore how stude...\n",
            "Name: abstract, dtype: object\n"
          ]
        }
      ]
    }
  ]
}