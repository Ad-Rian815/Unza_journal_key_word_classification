{
  "nbformat": 4,
  "nbformat_minor": 0,
  "metadata": {
    "colab": {
      "provenance": [],
      "toc_visible": true,
      "include_colab_link": true
    },
    "kernelspec": {
      "name": "python3",
      "display_name": "Python 3"
    },
    "language_info": {
      "name": "python"
    }
  },
  "cells": [
    {
      "cell_type": "markdown",
      "metadata": {
        "id": "view-in-github",
        "colab_type": "text"
      },
      "source": [
        "<a href=\"https://colab.research.google.com/github/Ad-Rian815/Unza_journal_key_word_classification/blob/main/Automatic_Classification_Of_Key_Words_Associated_with_articles_on_Unza_journals.ipynb\" target=\"_parent\"><img src=\"https://colab.research.google.com/assets/colab-badge.svg\" alt=\"Open In Colab\"/></a>"
      ]
    },
    {
      "cell_type": "markdown",
      "source": [
        "# Business Understanding\n"
      ],
      "metadata": {
        "id": "q5BHIcKZFccf"
      }
    },
    {
      "cell_type": "markdown",
      "source": [
        "## 1.1 Problem Statement\n",
        "Currently, keywords associated with research articles in UNZA journals are not automatically organized or classified. This makes it difficult for researchers, students, and librarians to quickly identify relevant articles or track research trends. A manual process is time-consuming, inconsistent, and limits the usefulness of the institutional repository. Navigation of journals will be a piece of cake!"
      ],
      "metadata": {
        "id": "zzXRR53RcVZn"
      }
    },
    {
      "cell_type": "markdown",
      "source": [
        "## 1.2 Business Objectives\n",
        "The goal of this project is to build a system that can automatically classify keywords from articles into meaningful categories (e.g., *Agriculture, Medicine, Computer Science*).  \n",
        "\n",
        "From a real-world perspective, success means:\n",
        "- Improving searchability and retrieval of research articles.\n",
        "- Helping researchers discover related works faster.\n",
        "- Supporting administrators in analyzing research output trends at UNZA."
      ],
      "metadata": {
        "id": "T91ZAsmoREBD"
      }
    },
    {
      "cell_type": "markdown",
      "source": [
        "##1.3 Data Mining Goal\n",
        "  \n",
        "  The technical approach to achieving these objectives is structured into the following data mining goals:\n",
        "\n",
        "   1.Classification Model Development: A classification model will be built to  categorize article keywords into predefined classes.\n",
        "\n",
        "  2.Text Preprocessing: The raw text data will be prepared for machine learning using standard preprocessing techniques, including tokenization, stop-word removal, and TF-IDF (Term          Frequency-Inverse Document Frequency) for vectorization.\n",
        "\n",
        "  3.Algorithm Experimentation: The performance of several classification algorithms will be evaluated to determine the most effective one. The algorithms to be tested include Naïve          Bayes,   Support Vector Machines (SVM), and Decision Trees.\n",
        "  \n",
        "  To wrap things up, the main goal of this project is to build a machine learning model that can automatically classify article keywords. We've broken the work down into two key           parts. First, we'll focus on data preparation by cleaning the text using tokenization and stop-word removal, and then we'll use TF-IDF to turn everything into numbers for the models     to work with.\n",
        "  \n",
        "  For the second part, we'll experiment with different algorithms like Naïve Bayes, SVM, and Decision Trees. By testing them with metrics like precision and F1-score, then we'll           figure out which one is the most accurate. We're hoping that by following these steps, we can successfully create a model that not only classifies keywords effectively but also          shows we've got a solid grasp of the data mining process.\n",
        "\n",
        "   Summary: The workflow involves two main stages.\n",
        "  First, text preprocessing to clean and transform raw keywords into numerical representations.\n",
        "  Second, experimentation with multiple algorithms to identify the most accurate and robust classifier.\n",
        "\n",
        "    1.3.1 Data Preparation\n",
        "       Before building the model the data will be,\n",
        "       Tokenized into smaller units.\n",
        "       Cleaned by removing stop words and irrelevant terms.\n",
        "       Converted into numerical representations using TF-IDF for input into machine learning models."
      ],
      "metadata": {
        "id": "uxUYX_Y1WMRM"
      }
    },
    {
      "cell_type": "markdown",
      "source": [
        "## 1.4 Project Success Criteria\n",
        "- The model should achieve at least **80% accuracy** on the test dataset.\n",
        "- The classification results must be **interpretable and consistent** across different domains.\n",
        "- The classification outputs are clear and be easily explained to non-technical stakeholders.\n",
        "- The system should reduce the time required to organize keywords compared to manual methods."
      ],
      "metadata": {
        "id": "rnDULKNcWVKB"
      }
    },
    {
      "cell_type": "markdown",
      "source": [
        "# Data Understanding\n"
      ],
      "metadata": {
        "id": "UajRKSlpWt91"
      }
    },
    {
      "cell_type": "code",
      "source": [
        "from google.colab import drive\n",
        "drive.mount('/content/drive')\n",
        "import requests\n",
        "from bs4 import BeautifulSoup\n",
        "import pandas as pd\n",
        "import time\n",
        "\n",
        "BASE_URL = \"https://journals.unza.zm\"\n",
        "\n",
        "def get_journal_links():\n",
        "    response = requests.get(BASE_URL)\n",
        "    soup = BeautifulSoup(response.text, \"html.parser\")\n",
        "    links = []\n",
        "    for a in soup.select(\"a\"):\n",
        "        href = a.get(\"href\")\n",
        "        if href and \"index.php\" in href:\n",
        "            links.append(BASE_URL + href if not href.startswith(\"http\") else href)\n",
        "    return list(set(links))\n",
        "\n",
        "def scrape_articles(journal_url, max_pages=3):\n",
        "    articles = []\n",
        "    for page in range(1, max_pages+1):\n",
        "        url = f\"{journal_url}?page={page}\"\n",
        "        response = requests.get(url)\n",
        "        if response.status_code != 200:\n",
        "            break\n",
        "\n",
        "        soup = BeautifulSoup(response.text, \"html.parser\")\n",
        "        for article in soup.select(\"div.title a\"):\n",
        "            article_url = article.get(\"href\")\n",
        "            article_url = article_url if article_url.startswith(\"http\") else BASE_URL + article_url\n",
        "            article_data = scrape_article_metadata(article_url)\n",
        "            if article_data:\n",
        "                articles.append(article_data)\n",
        "            # polite delay\n",
        "            time.sleep(1)\n",
        "    return articles\n",
        "\n",
        "def _extract_author_names(soup):\n",
        "    # 1) Prefer OJS meta tags (names only)\n",
        "    meta_authors = [m.get(\"content\", \"\").strip()\n",
        "                    for m in soup.select('meta[name=\"citation_author\"]')\n",
        "                    if m.get(\"content\")]\n",
        "    if meta_authors:\n",
        "        # de-dup while preserving order\n",
        "        seen = set()\n",
        "        ordered = []\n",
        "        for a in meta_authors:\n",
        "            if a and a not in seen:\n",
        "                seen.add(a)\n",
        "                ordered.append(a)\n",
        "        return \", \".join(ordered)\n",
        "\n",
        "    # 2) Fall back to elements that specifically hold names\n",
        "    name_selectors = [\n",
        "        \".authors .name\",\n",
        "        \".author .name\",\n",
        "        \"li.authors .name\",\n",
        "        \"div#authors .name\",\n",
        "        \".article-authors .name\",\n",
        "    ]\n",
        "    for sel in name_selectors:\n",
        "        els = [e.get_text(strip=True) for e in soup.select(sel)]\n",
        "        els = [e for e in els if e]\n",
        "        if els:\n",
        "            # remove obvious ORCID ids or emails if any slipped in\n",
        "            cleaned = []\n",
        "            for txt in els:\n",
        "                # strip ORCID URLs/ids and emails in case they appear alongside names\n",
        "\n",
        "                txt = txt.replace(\"ORCID\", \"\")\n",
        "                # very light cleanup without changing the site logic\n",
        "                cleaned.append(txt.strip(\" ,;\"))\n",
        "            # de-dup\n",
        "            seen = set()\n",
        "            ordered = []\n",
        "            for a in cleaned:\n",
        "                if a and a not in seen:\n",
        "                    seen.add(a)\n",
        "                    ordered.append(a)\n",
        "            return \", \".join(ordered)\n",
        "\n",
        "    generic = [e.get_text(strip=True) for e in soup.select(\".authors span, .authors div\")]\n",
        "    if generic:\n",
        "        names = []\n",
        "        for t in generic:\n",
        "            # keep short tokens that look like names (very light heuristic)\n",
        "            if len(t.split()) <= 6 and \"http\" not in t.lower() and \"@\" not in t and \":\" not in t:\n",
        "                names.append(t.strip(\" ,;\"))\n",
        "        # if that yields something believable, join; else return joined generic\n",
        "        if names:\n",
        "            # de-dup\n",
        "            seen = set()\n",
        "            ordered = []\n",
        "            for a in names:\n",
        "                if a and a not in seen:\n",
        "                    seen.add(a)\n",
        "                    ordered.append(a)\n",
        "            return \", \".join(ordered)\n",
        "        return \", \".join(generic)\n",
        "    return None\n",
        "\n",
        "def scrape_article_metadata(article_url):\n",
        "    try:\n",
        "        response = requests.get(article_url)\n",
        "        if response.status_code != 200:\n",
        "            print(f\"Failed to fetch {article_url}: Status {response.status_code}\")\n",
        "            return None\n",
        "\n",
        "        soup = BeautifulSoup(response.text, \"html.parser\")\n",
        "\n",
        "        # Debug\n",
        "        print(f\"\\n--- Debugging {article_url} ---\")\n",
        "\n",
        "        # Title\n",
        "        title = None\n",
        "        title_selectors = [\"h1.page_title\", \"h1\", \".page_title\", \".article-title\", \"h1.title\"]\n",
        "        for selector in title_selectors:\n",
        "            element = soup.select_one(selector)\n",
        "            if element:\n",
        "                title = element.get_text().strip()\n",
        "                print(f\"Title found with selector '{selector}': {title[:50]}...\")\n",
        "                break\n",
        "\n",
        "        # Authors: (names only)\n",
        "        authors = _extract_author_names(soup)\n",
        "        if authors:\n",
        "            print(f\"Authors (names only): {authors}\")\n",
        "        else:\n",
        "            print(\"Authors not found with name-specific selectors; see page for structure.\")\n",
        "\n",
        "        # Abstract\n",
        "        abstract = None\n",
        "        abstract_selectors = [\"div.abstract\", \".abstract\", \".article-abstract\", \"div.description\"]\n",
        "        for selector in abstract_selectors:\n",
        "            element = soup.select_one(selector)\n",
        "            if element:\n",
        "                abstract = element.get_text().strip()\n",
        "                break\n",
        "\n",
        "        # Keywords\n",
        "        keywords = None\n",
        "        keyword_selectors = [\"div.keywords\", \".keywords\", \".article-keywords\", \".tags\"]\n",
        "        for selector in keyword_selectors:\n",
        "            element = soup.select_one(selector)\n",
        "            if element:\n",
        "                keywords = element.get_text().strip()\n",
        "                break\n",
        "\n",
        "        return {\n",
        "            \"title\": title,\n",
        "            \"authors\": authors,\n",
        "            \"abstract\": abstract,\n",
        "            \"keywords\": keywords,\n",
        "            \"url\": article_url\n",
        "        }\n",
        "\n",
        "    except Exception as e:\n",
        "        print(f\"Error scraping {article_url}: {str(e)}\")\n",
        "        return None\n",
        "\n",
        "if __name__ == \"__main__\":\n",
        "    journal_links = get_journal_links()\n",
        "    print(f\"Found {len(journal_links)} journals\")\n",
        "\n",
        "    all_articles = []\n",
        "    for journal in journal_links[:2]:\n",
        "        print(f\"\\nScraping {journal} ...\")\n",
        "        articles = scrape_articles(journal, max_pages=1)\n",
        "        all_articles.extend(articles)\n",
        "        if len(all_articles) >= 5:\n",
        "            break\n",
        "\n",
        "    df = pd.DataFrame(all_articles)\n",
        "    df.to_csv(\"/content/drive/My Drive/misc-unza25-csc4792-project_team9/unza_journals.csv\", index=False)\n",
        "\n",
        "\n",
        "    print(f\"\\n--- SUMMARY ---\")\n",
        "    print(f\"Total articles scraped: {len(all_articles)}\")\n",
        "    print(f\"Articles with authors: {len([a for a in all_articles if a['authors']])}\")\n",
        "    print(f\"Articles with titles: {len([a for a in all_articles if a['title']])}\")\n",
        "\n",
        "    for i, article in enumerate(all_articles[:3]):\n",
        "        print(f\"\\nArticle {i+1}:\")\n",
        "        for key, value in article.items():\n",
        "            if value:\n",
        "                print(f\"  {key}: {str(value)[:100]}{'...' if len(str(value)) > 100 else ''}\")\n",
        "\n",
        "    print(\"Debug scraping completed. Data saved to unza_journals.csv\")\n"
      ],
      "metadata": {
        "id": "u0Tp-kH5omu6",
        "colab": {
          "base_uri": "https://localhost:8080/"
        },
        "outputId": "f3d203d0-6e62-43f3-d86a-80f1bb61c57b"
      },
      "execution_count": 3,
      "outputs": [
        {
          "output_type": "stream",
          "name": "stdout",
          "text": [
            "Drive already mounted at /content/drive; to attempt to forcibly remount, call drive.mount(\"/content/drive\", force_remount=True).\n",
            "Found 34 journals\n",
            "\n",
            "Scraping https://journals.unza.zm/index.php/medicine/issue/current ...\n",
            "\n",
            "--- Debugging https://journals.unza.zm/index.php/medicine/article/view/1096 ---\n",
            "Title found with selector 'h1.page_title': Editorial-Forecasting the anthrax outbreak dynamic...\n",
            "Authors (names only): Brian Chanda Chiluba\n",
            "\n",
            "--- Debugging https://journals.unza.zm/index.php/medicine/article/view/1098 ---\n",
            "Title found with selector 'h1.page_title': Mismanagement of pesticides among smallholder farm...\n",
            "Authors (names only): Kweleka Mwanza, Jasper Musa, Bridget Bwalya\n",
            "\n",
            "--- Debugging https://journals.unza.zm/index.php/medicine/article/view/1099 ---\n",
            "Title found with selector 'h1.page_title': Impact of the COVID-19 pandemic on people living w...\n",
            "Authors (names only): Ethel N Malambo\n",
            "\n",
            "--- Debugging https://journals.unza.zm/index.php/medicine/article/view/1100 ---\n",
            "Title found with selector 'h1.page_title': HIV and cardiovascular disease: A review of awaren...\n",
            "Authors (names only): Mweene Haamaundu\n",
            "\n",
            "--- Debugging https://journals.unza.zm/index.php/medicine/article/view/1101 ---\n",
            "Title found with selector 'h1.page_title': Synthesis of Literature: Integrating Disability Mo...\n",
            "Authors (names only): Mwape Muyembe Besa\n",
            "\n",
            "--- Debugging https://journals.unza.zm/index.php/medicine/article/view/1103 ---\n",
            "Title found with selector 'h1.page_title': inclusive resilience: empowering people living wit...\n",
            "Authors (names only): Patrick Lubasi Mbangweta\n",
            "\n",
            "--- Debugging https://journals.unza.zm/index.php/medicine/article/view/1104 ---\n",
            "Title found with selector 'h1.page_title': A Synthesis: Exploring the Interconnection between...\n",
            "Authors (names only): Wila Lombe\n",
            "\n",
            "--- Debugging https://journals.unza.zm/index.php/medicine/article/view/1105 ---\n",
            "Title found with selector 'h1.page_title': Postnatal care knowledge, attitudes and practices:...\n",
            "Authors (names only): Sharon Kapoma, Mowa Zambwe\n",
            "\n",
            "--- Debugging https://journals.unza.zm/index.php/medicine/article/view/1106 ---\n",
            "Title found with selector 'h1.page_title': Uranium exposure-associated health complications a...\n",
            "Authors (names only): Titus Haakonde, Kennedy Choongo, Gershom Chongwe, Gilbert Nchima, Md. Saiful Islam, Kutemba Kaina Kapanji-Kakoma, John Yabe\n",
            "\n",
            "--- Debugging https://journals.unza.zm/index.php/medicine/article/view/1107 ---\n",
            "Title found with selector 'h1.page_title': Approaches and conceptions of learning among physi...\n",
            "Authors (names only): Salma Iddris, Samuel Koranteng Kwakye, Jonathan Quartey\n",
            "\n",
            "--- Debugging https://journals.unza.zm/index.php/medicine/article/view/1108 ---\n",
            "Title found with selector 'h1.page_title': Exploring the qualitative aspects of peer educator...\n",
            "Authors (names only): Esther Munalula Nkandu, Brian Chiluba, Munalula Muyangwa Munalula, Kris Kapp\n",
            "\n",
            "--- Debugging https://journals.unza.zm/index.php/medicine/article/view/1109 ---\n",
            "Title found with selector 'h1.page_title': Investigating social-cultural factors contributing...\n",
            "Authors (names only): Muchinga Mutambo\n",
            "\n",
            "--- Debugging https://journals.unza.zm/index.php/medicine/article/view/1110 ---\n",
            "Title found with selector 'h1.page_title': Maternal factors associated with birth asphyxia at...\n",
            "Authors (names only): Mabvuto Zulu, Bellington Vwalika, Yusuf Ahmed\n",
            "\n",
            "--- Debugging https://journals.unza.zm/index.php/medicine/article/view/1111 ---\n",
            "Title found with selector 'h1.page_title': Empowering Ideal Peer Educators: Insights from Ado...\n",
            "Authors (names only): Esther Munalula Nkandu, Brian Chanda Chiluba, Munalula Muyangwa Munalula, Kris Kapp\n",
            "\n",
            "--- Debugging https://journals.unza.zm/index.php/medicine/article/view/1112 ---\n",
            "Title found with selector 'h1.page_title': Compounding effects of COVID-19 on health and soci...\n",
            "Authors (names only): Gugulethu Dube\n",
            "\n",
            "--- Debugging https://journals.unza.zm/index.php/medicine/article/view/1113 ---\n",
            "Title found with selector 'h1.page_title': Efficacy of Constraint Induced Movement Therapy an...\n",
            "Authors (names only): Olipa Zulu, Joseph Lupenga, Micah Mutuna Simpamba, Martha Chalwe Banda\n",
            "\n",
            "--- Debugging https://journals.unza.zm/index.php/medicine/article/view/1122 ---\n",
            "Title found with selector 'h1.page_title': Understanding adolescent perspectives on fertility...\n",
            "Authors (names only): Siphiwe Sakala\n",
            "\n",
            "--- Debugging https://journals.unza.zm/index.php/medicine/article/view/1123 ---\n",
            "Title found with selector 'h1.page_title': Impacts of the Covid-19 pandemic on standard care ...\n",
            "Authors (names only): Erick Mwale, Handavu Mangaba, Chilombo Chinyama\n",
            "\n",
            "--- SUMMARY ---\n",
            "Total articles scraped: 18\n",
            "Articles with authors: 18\n",
            "Articles with titles: 18\n",
            "\n",
            "Article 1:\n",
            "  title: Editorial-Forecasting the anthrax outbreak dynamics in Zambia\n",
            "  authors: Brian Chanda Chiluba\n",
            "  abstract: Abstract\n",
            "\t\t\t\t\tAnthrax, a highly infectious disease with deep historical roots believed to have origi...\n",
            "  keywords: Keywords:\n",
            "\t\t\t\t\n",
            "\n",
            "\t\t\t\t\t\t\t\t\t\t\t\t\t\t\t\t\t\tAnthrax, \t\t\t\t\t\t\t\t\t\t\t\t\tBacillus anthracis, \t\t\t\t\t\t\t\t\t\t\t\t\tzoonotic di...\n",
            "  url: https://journals.unza.zm/index.php/medicine/article/view/1096\n",
            "\n",
            "Article 2:\n",
            "  title: Mismanagement of pesticides among smallholder farmers: A growing concern\n",
            "  authors: Kweleka Mwanza, Jasper Musa, Bridget Bwalya\n",
            "  abstract: Abstract\n",
            "\t\t\t\t\tAfrica's agricultural sector faces a significant threat from pests and diseases, leadi...\n",
            "  keywords: Keywords:\n",
            "\t\t\t\t\n",
            "\n",
            "\t\t\t\t\t\t\t\t\t\t\t\t\t\t\t\t\t\tAgriculture, \t\t\t\t\t\t\t\t\t\t\t\t\tsmallholder farmers, \t\t\t\t\t\t\t\t\t\t\t\t\tpestic...\n",
            "  url: https://journals.unza.zm/index.php/medicine/article/view/1098\n",
            "\n",
            "Article 3:\n",
            "  title: Impact of the COVID-19 pandemic on people living with disabilities: A review\n",
            "  authors: Ethel N Malambo\n",
            "  abstract: Abstract\n",
            "\t\t\t\t\tIntroduction: The global COVID-19 pandemic had a profound impact on people worldwide, ...\n",
            "  keywords: Keywords:\n",
            "\t\t\t\t\n",
            "\n",
            "\t\t\t\t\t\t\t\t\t\t\t\t\t\t\t\t\t\tCovid-19, \t\t\t\t\t\t\t\t\t\t\t\t\tdisability, \t\t\t\t\t\t\t\t\t\t\t\t\tSARS-CoV-2\n",
            "  url: https://journals.unza.zm/index.php/medicine/article/view/1099\n",
            "Debug scraping completed. Data saved to unza_journals.csv\n"
          ]
        }
      ]
    },
    {
      "cell_type": "code",
      "source": [
        "!ls \"/content/drive/My Drive\""
      ],
      "metadata": {
        "colab": {
          "base_uri": "https://localhost:8080/"
        },
        "id": "UEjzkonXOZVv",
        "outputId": "4b8561ff-235f-45a8-8ea1-6ad404edc955"
      },
      "execution_count": 2,
      "outputs": [
        {
          "output_type": "stream",
          "name": "stdout",
          "text": [
            "'2021421279 Alick Phiri.pdf'\n",
            "'6 A - Introduction to the Memory Subsystem.gslides'\n",
            "'6 B - Associative Mapping and Design Elements.gslides'\n",
            " Classroom\n",
            "'Database Exam Study Guide.gdoc'\n",
            " IMG-20230427-WA0052.jpg\n",
            "'IMG-20230427-WA0073 (1).jpg'\n",
            " IMG-20230427-WA0073.jpg\n",
            "'Quiz 3 - 2021455777_1.jpg'\n",
            "'Quiz 3 - 2021455777_2.jpg'\n",
            " ullman_the_complete_book.gdoc\n",
            "'Untitled presentation.gslides'\n",
            " VACUUM_CLEANER_AGENT.gslides\n"
          ]
        }
      ]
    },
    {
      "cell_type": "code",
      "source": [
        "import pandas as pd\n",
        "\n",
        "# Load dataset (replace with your actual file name, e.g. \"data.csv\")\n",
        "df = pd.read_csv(\"/content/drive/My Drive/misc-unza25-csc4792-project_team9/unza_journals.csv\")\n",
        "\n",
        "# Show first 5 rows to confirm load\n",
        "print(df.head())\n"
      ],
      "metadata": {
        "colab": {
          "base_uri": "https://localhost:8080/"
        },
        "id": "TVtzFuYxE_VI",
        "outputId": "465fc271-344f-4a4f-c9fe-0e34f230426e"
      },
      "execution_count": 5,
      "outputs": [
        {
          "output_type": "stream",
          "name": "stdout",
          "text": [
            "                                               title  \\\n",
            "0  Editorial-Forecasting the anthrax outbreak dyn...   \n",
            "1  Mismanagement of pesticides among smallholder ...   \n",
            "2  Impact of the COVID-19 pandemic on people livi...   \n",
            "3  HIV and cardiovascular disease: A review of aw...   \n",
            "4  Synthesis of Literature: Integrating Disabilit...   \n",
            "\n",
            "                                       authors  \\\n",
            "0                         Brian Chanda Chiluba   \n",
            "1  Kweleka Mwanza, Jasper Musa, Bridget Bwalya   \n",
            "2                              Ethel N Malambo   \n",
            "3                             Mweene Haamaundu   \n",
            "4                           Mwape Muyembe Besa   \n",
            "\n",
            "                                            abstract  \\\n",
            "0  Abstract\\n\\t\\t\\t\\t\\tAnthrax, a highly infectio...   \n",
            "1  Abstract\\n\\t\\t\\t\\t\\tAfrica's agricultural sect...   \n",
            "2  Abstract\\n\\t\\t\\t\\t\\tIntroduction: The global C...   \n",
            "3  Abstract\\n\\t\\t\\t\\t\\tBackground: People living ...   \n",
            "4  Abstract\\n\\t\\t\\t\\t\\tBackground: The coexistenc...   \n",
            "\n",
            "                                            keywords  \\\n",
            "0  Keywords:\\n\\t\\t\\t\\t\\n\\n\\t\\t\\t\\t\\t\\t\\t\\t\\t\\t\\t\\...   \n",
            "1  Keywords:\\n\\t\\t\\t\\t\\n\\n\\t\\t\\t\\t\\t\\t\\t\\t\\t\\t\\t\\...   \n",
            "2  Keywords:\\n\\t\\t\\t\\t\\n\\n\\t\\t\\t\\t\\t\\t\\t\\t\\t\\t\\t\\...   \n",
            "3  Keywords:\\n\\t\\t\\t\\t\\n\\n\\t\\t\\t\\t\\t\\t\\t\\t\\t\\t\\t\\...   \n",
            "4  Keywords:\\n\\t\\t\\t\\t\\n\\n\\t\\t\\t\\t\\t\\t\\t\\t\\t\\t\\t\\...   \n",
            "\n",
            "                                                 url  \n",
            "0  https://journals.unza.zm/index.php/medicine/ar...  \n",
            "1  https://journals.unza.zm/index.php/medicine/ar...  \n",
            "2  https://journals.unza.zm/index.php/medicine/ar...  \n",
            "3  https://journals.unza.zm/index.php/medicine/ar...  \n",
            "4  https://journals.unza.zm/index.php/medicine/ar...  \n"
          ]
        }
      ]
    },
    {
      "cell_type": "code",
      "source": [
        "print(\"=== Shape ===\")\n",
        "print(df.shape)\n",
        "\n",
        "print(\"\\n=== Info ===\")\n",
        "print(df.info())\n",
        "\n",
        "print(\"\\n=== Missing Values ===\")\n",
        "print(df.isnull().sum())\n",
        "\n",
        "print(\"\\n=== First Rows ===\")\n",
        "print(df.head())\n"
      ],
      "metadata": {
        "colab": {
          "base_uri": "https://localhost:8080/"
        },
        "id": "cpTXV3LMQyY9",
        "outputId": "22499e5d-0af9-4770-d1e0-6099eb782244"
      },
      "execution_count": 6,
      "outputs": [
        {
          "output_type": "stream",
          "name": "stdout",
          "text": [
            "=== Shape ===\n",
            "(18, 5)\n",
            "\n",
            "=== Info ===\n",
            "<class 'pandas.core.frame.DataFrame'>\n",
            "RangeIndex: 18 entries, 0 to 17\n",
            "Data columns (total 5 columns):\n",
            " #   Column    Non-Null Count  Dtype \n",
            "---  ------    --------------  ----- \n",
            " 0   title     18 non-null     object\n",
            " 1   authors   18 non-null     object\n",
            " 2   abstract  18 non-null     object\n",
            " 3   keywords  18 non-null     object\n",
            " 4   url       18 non-null     object\n",
            "dtypes: object(5)\n",
            "memory usage: 852.0+ bytes\n",
            "None\n",
            "\n",
            "=== Missing Values ===\n",
            "title       0\n",
            "authors     0\n",
            "abstract    0\n",
            "keywords    0\n",
            "url         0\n",
            "dtype: int64\n",
            "\n",
            "=== First Rows ===\n",
            "                                               title  \\\n",
            "0  Editorial-Forecasting the anthrax outbreak dyn...   \n",
            "1  Mismanagement of pesticides among smallholder ...   \n",
            "2  Impact of the COVID-19 pandemic on people livi...   \n",
            "3  HIV and cardiovascular disease: A review of aw...   \n",
            "4  Synthesis of Literature: Integrating Disabilit...   \n",
            "\n",
            "                                       authors  \\\n",
            "0                         Brian Chanda Chiluba   \n",
            "1  Kweleka Mwanza, Jasper Musa, Bridget Bwalya   \n",
            "2                              Ethel N Malambo   \n",
            "3                             Mweene Haamaundu   \n",
            "4                           Mwape Muyembe Besa   \n",
            "\n",
            "                                            abstract  \\\n",
            "0  Abstract\\n\\t\\t\\t\\t\\tAnthrax, a highly infectio...   \n",
            "1  Abstract\\n\\t\\t\\t\\t\\tAfrica's agricultural sect...   \n",
            "2  Abstract\\n\\t\\t\\t\\t\\tIntroduction: The global C...   \n",
            "3  Abstract\\n\\t\\t\\t\\t\\tBackground: People living ...   \n",
            "4  Abstract\\n\\t\\t\\t\\t\\tBackground: The coexistenc...   \n",
            "\n",
            "                                            keywords  \\\n",
            "0  Keywords:\\n\\t\\t\\t\\t\\n\\n\\t\\t\\t\\t\\t\\t\\t\\t\\t\\t\\t\\...   \n",
            "1  Keywords:\\n\\t\\t\\t\\t\\n\\n\\t\\t\\t\\t\\t\\t\\t\\t\\t\\t\\t\\...   \n",
            "2  Keywords:\\n\\t\\t\\t\\t\\n\\n\\t\\t\\t\\t\\t\\t\\t\\t\\t\\t\\t\\...   \n",
            "3  Keywords:\\n\\t\\t\\t\\t\\n\\n\\t\\t\\t\\t\\t\\t\\t\\t\\t\\t\\t\\...   \n",
            "4  Keywords:\\n\\t\\t\\t\\t\\n\\n\\t\\t\\t\\t\\t\\t\\t\\t\\t\\t\\t\\...   \n",
            "\n",
            "                                                 url  \n",
            "0  https://journals.unza.zm/index.php/medicine/ar...  \n",
            "1  https://journals.unza.zm/index.php/medicine/ar...  \n",
            "2  https://journals.unza.zm/index.php/medicine/ar...  \n",
            "3  https://journals.unza.zm/index.php/medicine/ar...  \n",
            "4  https://journals.unza.zm/index.php/medicine/ar...  \n"
          ]
        }
      ]
    },
    {
      "cell_type": "code",
      "source": [
        "import matplotlib.pyplot as plt\n",
        "import seaborn as sns\n",
        "from collections import Counter\n",
        "\n",
        "# Split multiple authors into list\n",
        "all_authors = []\n",
        "for a in df['authors'].dropna():\n",
        "    for name in a.split(\",\"):\n",
        "        all_authors.append(name.strip())\n",
        "\n",
        "author_counts = Counter(all_authors).most_common(10)\n",
        "\n",
        "# Plot top 10 authors\n",
        "plt.figure(figsize=(8,5))\n",
        "sns.barplot(x=[c[1] for c in author_counts], y=[c[0] for c in author_counts])\n",
        "plt.title(\"Top 10 Most Frequent Authors\")\n",
        "plt.xlabel(\"Number of Articles\")\n",
        "plt.ylabel(\"Author\")\n",
        "plt.show()\n"
      ],
      "metadata": {
        "colab": {
          "base_uri": "https://localhost:8080/",
          "height": 487
        },
        "id": "BgaDmyTyRAbh",
        "outputId": "9f96c49a-d422-4bc0-e381-e0333cb0f259"
      },
      "execution_count": 7,
      "outputs": [
        {
          "output_type": "display_data",
          "data": {
            "text/plain": [
              "<Figure size 800x500 with 1 Axes>"
            ],
            "image/png": "[encoded data removed]"
          },
          "metadata": {}
        }
      ]
    },
    {
      "cell_type": "code",
      "source": [
        "df[\"abstract_wordcount\"] = df[\"abstract\"].dropna().apply(lambda x: len(str(x).split()))\n",
        "\n",
        "plt.figure(figsize=(8,5))\n",
        "sns.histplot(df[\"abstract_wordcount\"], bins=20, kde=True)\n",
        "plt.title(\"Distribution of Abstract Lengths (Word Count)\")\n",
        "plt.xlabel(\"Word Count\")\n",
        "plt.ylabel(\"Number of Articles\")\n",
        "plt.show()\n"
      ],
      "metadata": {
        "colab": {
          "base_uri": "https://localhost:8080/",
          "height": 487
        },
        "id": "rcMR_8RRRDhb",
        "outputId": "a2e63cfc-697c-420f-b26a-7a7f58f1b33e"
      },
      "execution_count": 8,
      "outputs": [
        {
          "output_type": "display_data",
          "data": {
            "text/plain": [
              "<Figure size 800x500 with 1 Axes>"
            ],
            "image/png": "[encoded data removed]"
          },
          "metadata": {}
        }
      ]
    },
    {
      "cell_type": "code",
      "source": [
        "all_keywords = []\n",
        "for k in df['keywords'].dropna():\n",
        "    for word in k.replace(\"Keywords:\", \"\").replace(\"\\n\",\"\").split(\",\"):\n",
        "        word = word.strip().lower()\n",
        "        if word:\n",
        "            all_keywords.append(word)\n",
        "\n",
        "keyword_counts = Counter(all_keywords).most_common(15)\n",
        "\n",
        "plt.figure(figsize=(8,5))\n",
        "sns.barplot(x=[c[1] for c in keyword_counts], y=[c[0] for c in keyword_counts])\n",
        "plt.title(\"Top 15 Keywords Across Articles\")\n",
        "plt.xlabel(\"Frequency\")\n",
        "plt.ylabel(\"Keyword\")\n",
        "plt.show()\n"
      ],
      "metadata": {
        "colab": {
          "base_uri": "https://localhost:8080/",
          "height": 487
        },
        "id": "bMGq3xFpRNDC",
        "outputId": "c7903dc2-4593-4d95-c904-8979e0ced4ca"
      },
      "execution_count": 9,
      "outputs": [
        {
          "output_type": "display_data",
          "data": {
            "text/plain": [
              "<Figure size 800x500 with 1 Axes>"
            ],
            "image/png": "[encoded data removed]"
          },
          "metadata": {}
        }
      ]
    },
    {
      "cell_type": "code",
      "source": [
        "# Clean keywords column\n",
        "df[\"keywords\"] = (\n",
        "    df[\"keywords\"]\n",
        "    .fillna(\"\")\n",
        "    .str.replace(\"Keywords:\", \"\", regex=False)   # remove the prefix\n",
        "    .str.replace(r\"\\s+\", \" \", regex=True)        # collapse whitespace\n",
        "    .str.strip()                                 # trim leading/trailing spaces\n",
        ")\n"
      ],
      "metadata": {
        "id": "Dp_xNsuMRuKb"
      },
      "execution_count": 10,
      "outputs": []
    },
    {
      "cell_type": "code",
      "source": [
        "# Clean keywords column\n",
        "df[\"abstract\"] = (\n",
        "    df[\"abstract\"]\n",
        "    .fillna(\"\")\n",
        "    .str.replace(\"abstract:\", \"\", regex=False)   # remove the prefix\n",
        "    .str.replace(r\"\\s+\", \" \", regex=True)        # collapse whitespace\n",
        "    .str.strip()                                 # trim leading/trailing spaces\n",
        ")\n"
      ],
      "metadata": {
        "id": "cdM9TDH3TySs"
      },
      "execution_count": 16,
      "outputs": []
    },
    {
      "cell_type": "code",
      "source": [
        "import pandas as pd\n",
        "from collections import Counter\n",
        "\n",
        "def generate_summary(df):\n",
        "    summary = []\n",
        "\n",
        "    # Dataset shape\n",
        "    rows, cols = df.shape\n",
        "    summary.append(f\"The dataset contains **{rows} articles** with **{cols} columns**.\")\n",
        "\n",
        "    # Missing values\n",
        "    missing = df.isnull().sum()\n",
        "    missing_cols = missing[missing > 0]\n",
        "    if not missing_cols.empty:\n",
        "        summary.append(\"Some columns have missing values:\")\n",
        "        for col, val in missing_cols.items():\n",
        "            summary.append(f\"- {col}: {val} missing\")\n",
        "    else:\n",
        "        summary.append(\" There are no missing values in the dataset.\")\n",
        "\n",
        "    # Abstract word count\n",
        "    df[\"abstract_wordcount\"] = df[\"abstract\"].fillna(\"\").apply(lambda x: len(str(x).split()))\n",
        "    avg_len = df[\"abstract_wordcount\"].mean()\n",
        "    summary.append(f\" Abstracts have an average length of about **{avg_len:.0f} words**.\")\n",
        "\n",
        "    # Top authors\n",
        "    all_authors = []\n",
        "    for a in df['authors'].dropna():\n",
        "        for name in a.split(\",\"):\n",
        "            all_authors.append(name.strip())\n",
        "    author_counts = Counter(all_authors).most_common(5)\n",
        "    if author_counts:\n",
        "        summary.append(\"The most frequent authors are:\")\n",
        "        for name, count in author_counts:\n",
        "            summary.append(f\"- {name}: {count} article(s)\")\n",
        "\n",
        "    # Clean and extract keywords\n",
        "    df[\"keywords\"] = (\n",
        "        df[\"keywords\"]\n",
        "        .fillna(\"\")\n",
        "        .str.replace(\"Keywords:\", \"\", regex=False)\n",
        "        .str.replace(r\"\\s+\", \" \", regex=True)\n",
        "        .str.strip()\n",
        "    )\n",
        "    all_keywords = []\n",
        "    for k in df['keywords']:\n",
        "        for word in k.split(\",\"):\n",
        "            word = word.strip().lower()\n",
        "            if word:\n",
        "                all_keywords.append(word)\n",
        "    keyword_counts = Counter(all_keywords).most_common(5)\n",
        "    if keyword_counts:\n",
        "        summary.append(\"The most common keywords are:\")\n",
        "        for word, count in keyword_counts:\n",
        "            summary.append(f\"- {word}: {count} occurrence(s)\")\n",
        "\n",
        "    return \"\\n\".join(summary)\n",
        "\n",
        "# === Create summary ===\n",
        "print(generate_summary(df))\n"
      ],
      "metadata": {
        "colab": {
          "base_uri": "https://localhost:8080/"
        },
        "id": "0y2w3AnqSKEi",
        "outputId": "8a57e1e2-9b4c-41b9-afa5-9daf542dccc9"
      },
      "execution_count": 12,
      "outputs": [
        {
          "output_type": "stream",
          "name": "stdout",
          "text": [
            "The dataset contains **18 articles** with **6 columns**.\n",
            " There are no missing values in the dataset.\n",
            " Abstracts have an average length of about **275 words**.\n",
            "The most frequent authors are:\n",
            "- Brian Chanda Chiluba: 2 article(s)\n",
            "- Esther Munalula Nkandu: 2 article(s)\n",
            "- Munalula Muyangwa Munalula: 2 article(s)\n",
            "- Kris Kapp: 2 article(s)\n",
            "- Kweleka Mwanza: 1 article(s)\n",
            "The most common keywords are:\n",
            "- covid-19: 6 occurrence(s)\n",
            "- disability: 3 occurrence(s)\n",
            "- adolescent reproductive health: 2 occurrence(s)\n",
            "- anthrax: 1 occurrence(s)\n",
            "- bacillus anthracis: 1 occurrence(s)\n"
          ]
        }
      ]
    },
    {
      "cell_type": "markdown",
      "source": [
        "# initial Summary\n",
        "The dataset contains **18 articles** with **6 columns**.\n",
        " There are no missing values in the dataset.\n",
        " Abstracts have an average length of about **275 words**.\n",
        "The most frequent authors are:\n",
        "- Brian Chanda Chiluba: 2 article(s)\n",
        "- Esther Munalula Nkandu: 2 article(s)\n",
        "- Munalula Muyangwa Munalula: 2 article(s)\n",
        "- Kris Kapp: 2 article(s)\n",
        "- Kweleka Mwanza: 1 article(s)\n",
        "The most common keywords are:\n",
        "- covid-19: 6 occurrence(s)\n",
        "- disability: 3 occurrence(s)\n",
        "- adolescent reproductive health: 2 occurrence(s)\n",
        "- anthrax: 1 occurrence(s)\n",
        "- bacillus anthracis: 1 occurrence(s)"
      ],
      "metadata": {
        "id": "aXChDRX3Sg4p"
      }
    }
  ]
}