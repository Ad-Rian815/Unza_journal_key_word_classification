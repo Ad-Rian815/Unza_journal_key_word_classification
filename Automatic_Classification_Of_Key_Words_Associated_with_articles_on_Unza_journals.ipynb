{
  "nbformat": 4,
  "nbformat_minor": 0,
  "metadata": {
    "colab": {
      "provenance": [],
      "collapsed_sections": [
        "rcMR_8RRRDhb"
      ],
      "toc_visible": true,
      "include_colab_link": true
    },
    "kernelspec": {
      "name": "python3",
      "display_name": "Python 3"
    },
    "language_info": {
      "name": "python"
    }
  },
  "cells": [
    {
      "cell_type": "markdown",
      "metadata": {
        "id": "view-in-github",
        "colab_type": "text"
      },
      "source": [
        "<a href=\"https://colab.research.google.com/github/Ad-Rian815/Unza_journal_key_word_classification/blob/main/Automatic_Classification_Of_Key_Words_Associated_with_articles_on_Unza_journals.ipynb\" target=\"_parent\"><img src=\"https://colab.research.google.com/assets/colab-badge.svg\" alt=\"Open In Colab\"/></a>"
      ]
    },
    {
      "cell_type": "markdown",
      "source": [
        "# Business Understanding\n"
      ],
      "metadata": {
        "id": "q5BHIcKZFccf"
      }
    },
    {
      "cell_type": "markdown",
      "source": [
        "## 1.1 Problem Statement\n",
        "Currently, keywords associated with research articles in UNZA journals are not automatically organized or classified. This makes it difficult for researchers, students, and librarians to quickly identify relevant articles or track research trends. A manual process is time-consuming, inconsistent, and limits the usefulness of the institutional repository. Navigation of journals will be a piece of cake!"
      ],
      "metadata": {
        "id": "zzXRR53RcVZn"
      }
    },
    {
      "cell_type": "markdown",
      "source": [
        "## 1.2 Business Objectives\n",
        "The goal of this project is to build a system that can automatically classify keywords from articles into meaningful categories (e.g., *Agriculture, Medicine, Computer Science*).  \n",
        "\n",
        "From a real-world perspective, success means:\n",
        "- Improving searchability and retrieval of research articles.\n",
        "- Helping researchers discover related works faster.\n",
        "- Supporting administrators in analyzing research output trends at UNZA."
      ],
      "metadata": {
        "id": "T91ZAsmoREBD"
      }
    },
    {
      "cell_type": "markdown",
      "source": [
        "##1.3 Data Mining Goal\n",
        "  \n",
        "  The technical approach to achieving these objectives is structured into the following data mining goals:\n",
        "\n",
        "   1.**Classification Model Development:** A classification model will be built to  categorize article keywords into predefined classes.\n",
        "\n",
        "  2.**Text Preprocessing:** The raw text data will be prepared for machine learning using standard preprocessing techniques, including tokenization, stop-word removal, and TF-IDF (Term          Frequency-Inverse Document Frequency) for vectorization.\n",
        "\n",
        "  3.**Algorithm Experimentation:** The performance of several classification algorithms will be evaluated to determine the most effective one. The algorithms to be tested include Naïve          Bayes,   Support Vector Machines (SVM), and Decision Trees.\n",
        "  \n",
        "  To wrap things up, the main goal of this project is to build a machine learning model that can automatically classify article keywords. We've broken the work down into two key           parts. First, we'll focus on data preparation by cleaning the text using tokenization and stop-word removal, and then we'll use TF-IDF to turn everything into numbers for the models     to work with.\n",
        "  \n",
        "  For the second part, we'll experiment with different algorithms like Naïve Bayes, SVM, and Decision Trees. By testing them with metrics like precision and F1-score, then we'll           figure out which one is the most accurate. We're hoping that by following these steps, we can successfully create a model that not only classifies keywords effectively but also          shows we've got a solid grasp of the data mining process.\n",
        "\n",
        "   Summary: The workflow involves two main stages.\n",
        "  First, text preprocessing to clean and transform raw keywords into numerical representations.\n",
        "  Second, experimentation with multiple algorithms to identify the most accurate and robust classifier.\n",
        "\n",
        "    1.3.1 Data Preparation\n",
        "       Before building the model the data will be,\n",
        "       Tokenized into smaller units.\n",
        "       Cleaned by removing stop words and irrelevant terms.\n",
        "       Converted into numerical representations using TF-IDF for input into machine learning models."
      ],
      "metadata": {
        "id": "uxUYX_Y1WMRM"
      }
    },
    {
      "cell_type": "markdown",
      "source": [
        "## 1.4 Project Success Criteria\n",
        "- The model should achieve at least **80% accuracy** on the test dataset.\n",
        "- The classification results must be **interpretable and consistent** across different domains.\n",
        "- The classification outputs are clear and be easily explained to non-technical stakeholders.\n",
        "- The system should reduce the time required to organize keywords compared to manual methods."
      ],
      "metadata": {
        "id": "rnDULKNcWVKB"
      }
    },
    {
      "cell_type": "markdown",
      "source": [
        "# Data Understanding\n"
      ],
      "metadata": {
        "id": "UajRKSlpWt91"
      }
    },
    {
      "cell_type": "code",
      "source": [
        "!pip install beautifulsoup4\n",
        "!pip install requests\n",
        "!pip install pandas"
      ],
      "metadata": {
        "colab": {
          "base_uri": "https://localhost:8080/"
        },
        "id": "AV0jOq9SJl-H",
        "outputId": "dc94af95-9aed-4468-fead-2fb19f9d5b2f"
      },
      "execution_count": null,
      "outputs": [
        {
          "output_type": "stream",
          "name": "stdout",
          "text": [
            "Requirement already satisfied: beautifulsoup4 in /usr/local/lib/python3.12/dist-packages (4.13.4)\n",
            "Requirement already satisfied: soupsieve>1.2 in /usr/local/lib/python3.12/dist-packages (from beautifulsoup4) (2.7)\n",
            "Requirement already satisfied: typing-extensions>=4.0.0 in /usr/local/lib/python3.12/dist-packages (from beautifulsoup4) (4.14.1)\n",
            "Requirement already satisfied: requests in /usr/local/lib/python3.12/dist-packages (2.32.4)\n",
            "Requirement already satisfied: charset_normalizer<4,>=2 in /usr/local/lib/python3.12/dist-packages (from requests) (3.4.3)\n",
            "Requirement already satisfied: idna<4,>=2.5 in /usr/local/lib/python3.12/dist-packages (from requests) (3.10)\n",
            "Requirement already satisfied: urllib3<3,>=1.21.1 in /usr/local/lib/python3.12/dist-packages (from requests) (2.5.0)\n",
            "Requirement already satisfied: certifi>=2017.4.17 in /usr/local/lib/python3.12/dist-packages (from requests) (2025.8.3)\n",
            "Requirement already satisfied: pandas in /usr/local/lib/python3.12/dist-packages (2.2.2)\n",
            "Requirement already satisfied: numpy>=1.26.0 in /usr/local/lib/python3.12/dist-packages (from pandas) (2.0.2)\n",
            "Requirement already satisfied: python-dateutil>=2.8.2 in /usr/local/lib/python3.12/dist-packages (from pandas) (2.9.0.post0)\n",
            "Requirement already satisfied: pytz>=2020.1 in /usr/local/lib/python3.12/dist-packages (from pandas) (2025.2)\n",
            "Requirement already satisfied: tzdata>=2022.7 in /usr/local/lib/python3.12/dist-packages (from pandas) (2025.2)\n",
            "Requirement already satisfied: six>=1.5 in /usr/local/lib/python3.12/dist-packages (from python-dateutil>=2.8.2->pandas) (1.17.0)\n"
          ]
        }
      ]
    },
    {
      "cell_type": "code",
      "source": [
        "from google.colab import drive\n",
        "drive.mount('/content/drive')\n",
        "import requests\n",
        "from bs4 import BeautifulSoup\n",
        "import pandas as pd\n",
        "import time\n",
        "import os # Import the os module\n",
        "\n",
        "BASE_URL = \"https://journals.unza.zm\"\n",
        "\n",
        "def get_journal_links():\n",
        "    response = requests.get(BASE_URL)\n",
        "    soup = BeautifulSoup(response.text, \"html.parser\")\n",
        "    links = []\n",
        "    for a in soup.select(\"a\"):\n",
        "        href = a.get(\"href\")\n",
        "        if href and \"index.php\" in href:\n",
        "            links.append(BASE_URL + href if not href.startswith(\"http\") else href)\n",
        "    return list(set(links))\n",
        "\n",
        "def scrape_articles(journal_url, max_pages=3):\n",
        "    articles = []\n",
        "    for page in range(1, max_pages+1):\n",
        "        url = f\"{journal_url}?page={page}\"\n",
        "        response = requests.get(url)\n",
        "        if response.status_code != 200:\n",
        "            break\n",
        "\n",
        "        soup = BeautifulSoup(response.text, \"html.parser\")\n",
        "        for article in soup.select(\"div.title a\"):\n",
        "            article_url = article.get(\"href\")\n",
        "            article_url = article_url if article_url.startswith(\"http\") else BASE_URL + article_url\n",
        "            article_data = scrape_article_metadata(article_url)\n",
        "            if article_data:\n",
        "                articles.append(article_data)\n",
        "            # polite delay\n",
        "            time.sleep(1)\n",
        "    return articles\n",
        "\n",
        "def _extract_author_names(soup):\n",
        "    # 1) Prefer OJS meta tags (names only)\n",
        "    meta_authors = [m.get(\"content\", \"\").strip()\n",
        "                    for m in soup.select('meta[name=\"citation_author\"]')\n",
        "                    if m.get(\"content\")]\n",
        "    if meta_authors:\n",
        "        # de-dup while preserving order\n",
        "        seen = set()\n",
        "        ordered = []\n",
        "        for a in meta_authors:\n",
        "            if a and a not in seen:\n",
        "                seen.add(a)\n",
        "                ordered.append(a)\n",
        "        return \", \".join(ordered)\n",
        "\n",
        "    # 2) Fall back to elements that specifically hold names\n",
        "    name_selectors = [\n",
        "        \".authors .name\",\n",
        "        \".author .name\",\n",
        "        \"li.authors .name\",\n",
        "        \"div#authors .name\",\n",
        "        \".article-authors .name\",\n",
        "    ]\n",
        "    for sel in name_selectors:\n",
        "        els = [e.get_text(strip=True) for e in soup.select(sel)]\n",
        "        els = [e for e in els if e]\n",
        "        if els:\n",
        "            # remove obvious ORCID ids or emails if any slipped in\n",
        "            cleaned = []\n",
        "            for txt in els:\n",
        "                # strip ORCID URLs/ids and emails in case they appear alongside names\n",
        "\n",
        "                txt = txt.replace(\"ORCID\", \"\")\n",
        "                # very light cleanup without changing the site logic\n",
        "                cleaned.append(txt.strip(\" ,;\"))\n",
        "            # de-dup\n",
        "            seen = set()\n",
        "            ordered = []\n",
        "            for a in cleaned:\n",
        "                if a and a not in seen:\n",
        "                    seen.add(a)\n",
        "                    ordered.append(a)\n",
        "            return \", \".join(ordered)\n",
        "\n",
        "    generic = [e.get_text(strip=True) for e in soup.select(\".authors span, .authors div\")]\n",
        "    if generic:\n",
        "        names = []\n",
        "        for t in generic:\n",
        "            # keep short tokens that look like names (very light heuristic)\n",
        "            if len(t.split()) <= 6 and \"http\" not in t.lower() and \"@\" not in t and \":\" not in t:\n",
        "                names.append(t.strip(\" ,;\"))\n",
        "        # if that yields something believable, join; else return joined generic\n",
        "        if names:\n",
        "            # de-dup\n",
        "            seen = set()\n",
        "            ordered = []\n",
        "            for a in names:\n",
        "                if a and a not in seen:\n",
        "                    seen.add(a)\n",
        "                    ordered.append(a)\n",
        "            return \", \".join(ordered)\n",
        "        return \", \".join(generic)\n",
        "    return None\n",
        "\n",
        "\n",
        "def scrape_article_metadata(article_url):\n",
        "    try:\n",
        "        response = requests.get(article_url)\n",
        "        if response.status_code != 200:\n",
        "            print(f\"Failed to fetch {article_url}: Status {response.status_code}\")\n",
        "            return None\n",
        "\n",
        "        soup = BeautifulSoup(response.text, \"html.parser\")\n",
        "\n",
        "        # Debug\n",
        "        print(f\"\\n--- Debugging {article_url} ---\")\n",
        "\n",
        "        # Title\n",
        "        title = None\n",
        "        title_selectors = [\"h1.page_title\", \"h1\", \".page_title\", \".article-title\", \"h1.title\"]\n",
        "        for selector in title_selectors:\n",
        "            element = soup.select_one(selector)\n",
        "            if element:\n",
        "                title = element.get_text().strip()\n",
        "                print(f\"Title found with selector '{selector}': {title[:50]}...\")\n",
        "                break\n",
        "\n",
        "        # Authors: (names only)\n",
        "        authors = _extract_author_names(soup)\n",
        "        if authors:\n",
        "            print(f\"Authors (names only): {authors}\")\n",
        "        else:\n",
        "            print(\"Authors not found with name-specific selectors; see page for structure.\")\n",
        "\n",
        "\n",
        "        # Abstract\n",
        "        abstract = None\n",
        "        abstract_selectors = [\"div.abstract\", \".abstract\", \".article-abstract\", \"div.description\"]\n",
        "        for selector in abstract_selectors:\n",
        "            element = soup.select_one(selector)\n",
        "            if element:\n",
        "                abstract = element.get_text().strip()\n",
        "                break\n",
        "\n",
        "        # Keywords\n",
        "        keywords = None\n",
        "        keyword_selectors = [\"div.keywords\", \".keywords\", \".article-keywords\", \".tags\"]\n",
        "        for selector in keyword_selectors:\n",
        "            element = soup.select_one(selector)\n",
        "            if element:\n",
        "                keywords = element.get_text().strip()\n",
        "                break\n",
        "\n",
        "        return {\n",
        "            \"title\": title,\n",
        "            \"authors\": authors,\n",
        "            \"abstract\": abstract,\n",
        "            \"keywords\": keywords,\n",
        "            \"url\": article_url\n",
        "        }\n",
        "\n",
        "    except Exception as e:\n",
        "        print(f\"Error scraping {article_url}: {str(e)}\")\n",
        "        return None\n",
        "\n",
        "\n",
        "if __name__ == \"__main__\":\n",
        "    journal_links = get_journal_links()\n",
        "    print(f\"Found {len(journal_links)} journals\")\n",
        "\n",
        "    all_articles = []\n",
        "    for journal in journal_links[:2]:\n",
        "        print(f\"\\nScraping {journal} ...\")\n",
        "        articles = scrape_articles(journal, max_pages=1)\n",
        "        all_articles.extend(articles)\n",
        "        if len(all_articles) >= 5:\n",
        "            break\n",
        "\n",
        "    df = pd.DataFrame(all_articles)\n",
        "\n",
        "    # Define the directory path\n",
        "    save_directory = \"/content/drive/My Drive/misc-unza25-csc4792-project_team9\"\n",
        "\n",
        "    # Create the directory if it doesn't exist\n",
        "    if not os.path.exists(save_directory):\n",
        "        os.makedirs(save_directory)\n",
        "        print(f\"Created directory: {save_directory}\")\n",
        "\n",
        "\n",
        "    df.to_csv(os.path.join(save_directory, \"unza_journals.csv\"), index=False)\n",
        "\n",
        "\n",
        "    print(f\"\\n--- SUMMARY ---\")\n",
        "    print(f\"Total articles scraped: {len(all_articles)}\")\n",
        "    print(f\"Articles with authors: {len([a for a in all_articles if a['authors']])}\")\n",
        "    print(f\"Articles with titles: {len([a for a in all_articles if a['title']])}\")\n",
        "\n",
        "\n",
        "    for i, article in enumerate(all_articles[:3]):\n",
        "        print(f\"\\nArticle {i+1}:\")\n",
        "        for key, value in article.items():\n",
        "            if value:\n",
        "                print(f\"  {key}: {str(value)[:100]}{'...' if len(str(value)) > 100 else ''}\")\n",
        "\n",
        "    print(\"Debug scraping completed. Data saved to unza_journals.csv\")"
      ],
      "metadata": {
        "id": "u0Tp-kH5omu6",
        "colab": {
          "base_uri": "https://localhost:8080/"
        },
        "outputId": "c925527a-155b-445f-b6a9-a15db012f6c1"
      },
      "execution_count": 3,
      "outputs": [
        {
          "output_type": "stream",
          "name": "stdout",
          "text": [
            "Mounted at /content/drive\n",
            "Found 34 journals\n",
            "\n",
            "Scraping https://journals.unza.zm/index.php/JAE ...\n",
            "\n",
            "--- Debugging https://journals.unza.zm/index.php/JAE/article/view/556 ---\n",
            "Title found with selector 'h1.page_title': Politics of gender in sports administration and le...\n",
            "Authors (names only): Mbale G Tamela, Madalitso K Banja\n",
            "\n",
            "--- Debugging https://journals.unza.zm/index.php/JAE/article/view/555 ---\n",
            "Title found with selector 'h1.page_title': Distance education students’ experiences of inform...\n",
            "Authors (names only): Musonda Luchembe, Peter C Sampa, Daniel L Mpolomoka\n",
            "\n",
            "--- Debugging https://journals.unza.zm/index.php/JAE/article/view/557 ---\n",
            "Title found with selector 'h1.page_title': Social Cash Transfer mediating socio-economic ineq...\n",
            "Authors (names only): Serah Kabamba, Collins C Kayangula, Noah K Sichula\n",
            "\n",
            "--- Debugging https://journals.unza.zm/index.php/JAE/article/view/563 ---\n",
            "Title found with selector 'h1.page_title': Theatre for development: a creative strategy for a...\n",
            "Authors (names only): Brian Kombe, Emmy H Mbozi\n",
            "\n",
            "--- Debugging https://journals.unza.zm/index.php/JAE/article/view/567 ---\n",
            "Title found with selector 'h1.page_title': Youth and adult literacy in Zambia, alternative st...\n",
            "Authors (names only): Choolwe Kang'ombe, Noah K Sichula\n",
            "\n",
            "--- Debugging https://journals.unza.zm/index.php/JAE/article/view/565 ---\n",
            "Title found with selector 'h1.page_title': Work experiences of adult educators during the COV...\n",
            "Authors (names only): Noah K Sichula, Moses Changala, Musonda Luchembe, Emmy H Mbozi, Michael Mulaisho, Mubiana Sitali Ngoma-Kaiko, Mubita Namuyamba, Flora Ngoma, Febby Finch, Stephen Salinyinga\n",
            "\n",
            "--- SUMMARY ---\n",
            "Total articles scraped: 6\n",
            "Articles with authors: 6\n",
            "Articles with titles: 6\n",
            "\n",
            "Article 1:\n",
            "  title: Politics of gender in sports administration and leadership in Zambia\n",
            "  authors: Mbale G Tamela, Madalitso K Banja\n",
            "  abstract: Abstract\n",
            "\t\t\t\t\tThis was a phenomenological study aimed at investigating experiences of women in sport...\n",
            "  keywords: Keywords:\n",
            "\t\t\t\t\n",
            "\n",
            "\t\t\t\t\t\t\t\t\t\t\t\t\t\t\t\t\t\tAccess to opportunities, \t\t\t\t\t\t\t\t\t\t\t\t\tgender, \t\t\t\t\t\t\t\t\t\t\t\t\tgender ...\n",
            "  url: https://journals.unza.zm/index.php/JAE/article/view/556\n",
            "\n",
            "Article 2:\n",
            "  title: Distance education students’ experiences of informal study groups in higher education\n",
            "  authors: Musonda Luchembe, Peter C Sampa, Daniel L Mpolomoka\n",
            "  abstract: Abstract\n",
            "\t\t\t\t\tAlthough informal learning is an important way of modern adult learning, the experienc...\n",
            "  keywords: Keywords:\n",
            "\t\t\t\t\n",
            "\n",
            "\t\t\t\t\t\t\t\t\t\t\t\t\t\t\t\t\t\tInformal learning, \t\t\t\t\t\t\t\t\t\t\t\t\tinformal study group, \t\t\t\t\t\t\t\t\t\t\t\t...\n",
            "  url: https://journals.unza.zm/index.php/JAE/article/view/555\n",
            "\n",
            "Article 3:\n",
            "  title: Social Cash Transfer mediating socio-economic inequalities faced by the elderly\n",
            "  authors: Serah Kabamba, Collins C Kayangula, Noah K Sichula\n",
            "  abstract: Abstract\n",
            "\t\t\t\t\tThe study aimed at investigating how community-based mediation can be used to promote ...\n",
            "  keywords: Keywords:\n",
            "\t\t\t\t\n",
            "\n",
            "\t\t\t\t\t\t\t\t\t\t\t\t\t\t\t\t\t\tElderly, \t\t\t\t\t\t\t\t\t\t\t\t\tsocial inequality mediation, \t\t\t\t\t\t\t\t\t\t\t\t\tso...\n",
            "  url: https://journals.unza.zm/index.php/JAE/article/view/557\n",
            "Debug scraping completed. Data saved to unza_journals.csv\n"
          ]
        }
      ]
    },
    {
      "cell_type": "code",
      "source": [
        "!ls \"/content/drive/My Drive\""
      ],
      "metadata": {
        "colab": {
          "base_uri": "https://localhost:8080/"
        },
        "id": "UEjzkonXOZVv",
        "outputId": "98e66aea-3766-4094-89ef-c337594bf04b"
      },
      "execution_count": 4,
      "outputs": [
        {
          "output_type": "stream",
          "name": "stdout",
          "text": [
            "'2021421279 Alick Phiri.pdf'\n",
            "'6 A - Introduction to the Memory Subsystem.gslides'\n",
            "'6 B - Associative Mapping and Design Elements.gslides'\n",
            " Classroom\n",
            "'Database Exam Study Guide.gdoc'\n",
            " db-unza25-csc4792-datasets-predicting_learning_outcomes.csv\n",
            " IMG-20230427-WA0052.jpg\n",
            "'IMG-20230427-WA0073 (1).jpg'\n",
            " IMG-20230427-WA0073.jpg\n",
            " misc-unza25-csc4792-project_team9\n",
            "'Quiz 3 - 2021455777_1.jpg'\n",
            "'Quiz 3 - 2021455777_2.jpg'\n",
            " ullman_the_complete_book.gdoc\n",
            "'Untitled presentation.gslides'\n",
            " VACUUM_CLEANER_AGENT.gslides\n"
          ]
        }
      ]
    },
    {
      "cell_type": "code",
      "source": [
        "import pandas as pd\n",
        "\n",
        "# Load dataset\n",
        "df = pd.read_csv(\"/content/drive/My Drive/misc-unza25-csc4792-project_team9/unza_journals.csv\")\n",
        "\n",
        "# Show first 5 rows to confirm load\n",
        "print(df.head())\n"
      ],
      "metadata": {
        "colab": {
          "base_uri": "https://localhost:8080/"
        },
        "id": "TVtzFuYxE_VI",
        "outputId": "f70cbad8-b933-4781-b021-a5acb81a1449"
      },
      "execution_count": 5,
      "outputs": [
        {
          "output_type": "stream",
          "name": "stdout",
          "text": [
            "                                               title  \\\n",
            "0  Politics of gender in sports administration an...   \n",
            "1  Distance education students’ experiences of in...   \n",
            "2  Social Cash Transfer mediating socio-economic ...   \n",
            "3  Theatre for development: a creative strategy f...   \n",
            "4  Youth and adult literacy in Zambia, alternativ...   \n",
            "\n",
            "                                             authors  \\\n",
            "0                  Mbale G Tamela, Madalitso K Banja   \n",
            "1  Musonda Luchembe, Peter C Sampa, Daniel L Mpol...   \n",
            "2  Serah Kabamba, Collins C Kayangula, Noah K Sic...   \n",
            "3                          Brian Kombe, Emmy H Mbozi   \n",
            "4                  Choolwe Kang'ombe, Noah K Sichula   \n",
            "\n",
            "                                            abstract  \\\n",
            "0  Abstract\\n\\t\\t\\t\\t\\tThis was a phenomenologica...   \n",
            "1  Abstract\\n\\t\\t\\t\\t\\tAlthough informal learning...   \n",
            "2  Abstract\\n\\t\\t\\t\\t\\tThe study aimed at investi...   \n",
            "3  Abstract\\n\\t\\t\\t\\t\\tThis article is based on a...   \n",
            "4  Abstract\\n\\t\\t\\t\\t\\tThis qualitative explorato...   \n",
            "\n",
            "                                            keywords  \\\n",
            "0  Keywords:\\n\\t\\t\\t\\t\\n\\n\\t\\t\\t\\t\\t\\t\\t\\t\\t\\t\\t\\...   \n",
            "1  Keywords:\\n\\t\\t\\t\\t\\n\\n\\t\\t\\t\\t\\t\\t\\t\\t\\t\\t\\t\\...   \n",
            "2  Keywords:\\n\\t\\t\\t\\t\\n\\n\\t\\t\\t\\t\\t\\t\\t\\t\\t\\t\\t\\...   \n",
            "3  Keywords:\\n\\t\\t\\t\\t\\n\\n\\t\\t\\t\\t\\t\\t\\t\\t\\t\\t\\t\\...   \n",
            "4  Keywords:\\n\\t\\t\\t\\t\\n\\n\\t\\t\\t\\t\\t\\t\\t\\t\\t\\t\\t\\...   \n",
            "\n",
            "                                                 url  \n",
            "0  https://journals.unza.zm/index.php/JAE/article...  \n",
            "1  https://journals.unza.zm/index.php/JAE/article...  \n",
            "2  https://journals.unza.zm/index.php/JAE/article...  \n",
            "3  https://journals.unza.zm/index.php/JAE/article...  \n",
            "4  https://journals.unza.zm/index.php/JAE/article...  \n"
          ]
        }
      ]
    },
    {
      "cell_type": "code",
      "source": [
        "print(\"=== Shape ===\")\n",
        "print(df.shape)\n",
        "\n",
        "print(\"\\n=== Info ===\")\n",
        "print(df.info())\n",
        "\n",
        "print(\"\\n=== Missing Values ===\")\n",
        "print(df.isnull().sum())\n",
        "\n",
        "print(\"\\n=== First Rows ===\")\n",
        "print(df.head())\n"
      ],
      "metadata": {
        "colab": {
          "base_uri": "https://localhost:8080/"
        },
        "id": "cpTXV3LMQyY9",
        "outputId": "1731e845-2200-42a8-b9aa-afe80e9935d7"
      },
      "execution_count": 6,
      "outputs": [
        {
          "output_type": "stream",
          "name": "stdout",
          "text": [
            "=== Shape ===\n",
            "(6, 5)\n",
            "\n",
            "=== Info ===\n",
            "<class 'pandas.core.frame.DataFrame'>\n",
            "RangeIndex: 6 entries, 0 to 5\n",
            "Data columns (total 5 columns):\n",
            " #   Column    Non-Null Count  Dtype \n",
            "---  ------    --------------  ----- \n",
            " 0   title     6 non-null      object\n",
            " 1   authors   6 non-null      object\n",
            " 2   abstract  6 non-null      object\n",
            " 3   keywords  6 non-null      object\n",
            " 4   url       6 non-null      object\n",
            "dtypes: object(5)\n",
            "memory usage: 372.0+ bytes\n",
            "None\n",
            "\n",
            "=== Missing Values ===\n",
            "title       0\n",
            "authors     0\n",
            "abstract    0\n",
            "keywords    0\n",
            "url         0\n",
            "dtype: int64\n",
            "\n",
            "=== First Rows ===\n",
            "                                               title  \\\n",
            "0  Politics of gender in sports administration an...   \n",
            "1  Distance education students’ experiences of in...   \n",
            "2  Social Cash Transfer mediating socio-economic ...   \n",
            "3  Theatre for development: a creative strategy f...   \n",
            "4  Youth and adult literacy in Zambia, alternativ...   \n",
            "\n",
            "                                             authors  \\\n",
            "0                  Mbale G Tamela, Madalitso K Banja   \n",
            "1  Musonda Luchembe, Peter C Sampa, Daniel L Mpol...   \n",
            "2  Serah Kabamba, Collins C Kayangula, Noah K Sic...   \n",
            "3                          Brian Kombe, Emmy H Mbozi   \n",
            "4                  Choolwe Kang'ombe, Noah K Sichula   \n",
            "\n",
            "                                            abstract  \\\n",
            "0  Abstract\\n\\t\\t\\t\\t\\tThis was a phenomenologica...   \n",
            "1  Abstract\\n\\t\\t\\t\\t\\tAlthough informal learning...   \n",
            "2  Abstract\\n\\t\\t\\t\\t\\tThe study aimed at investi...   \n",
            "3  Abstract\\n\\t\\t\\t\\t\\tThis article is based on a...   \n",
            "4  Abstract\\n\\t\\t\\t\\t\\tThis qualitative explorato...   \n",
            "\n",
            "                                            keywords  \\\n",
            "0  Keywords:\\n\\t\\t\\t\\t\\n\\n\\t\\t\\t\\t\\t\\t\\t\\t\\t\\t\\t\\...   \n",
            "1  Keywords:\\n\\t\\t\\t\\t\\n\\n\\t\\t\\t\\t\\t\\t\\t\\t\\t\\t\\t\\...   \n",
            "2  Keywords:\\n\\t\\t\\t\\t\\n\\n\\t\\t\\t\\t\\t\\t\\t\\t\\t\\t\\t\\...   \n",
            "3  Keywords:\\n\\t\\t\\t\\t\\n\\n\\t\\t\\t\\t\\t\\t\\t\\t\\t\\t\\t\\...   \n",
            "4  Keywords:\\n\\t\\t\\t\\t\\n\\n\\t\\t\\t\\t\\t\\t\\t\\t\\t\\t\\t\\...   \n",
            "\n",
            "                                                 url  \n",
            "0  https://journals.unza.zm/index.php/JAE/article...  \n",
            "1  https://journals.unza.zm/index.php/JAE/article...  \n",
            "2  https://journals.unza.zm/index.php/JAE/article...  \n",
            "3  https://journals.unza.zm/index.php/JAE/article...  \n",
            "4  https://journals.unza.zm/index.php/JAE/article...  \n"
          ]
        }
      ]
    },
    {
      "cell_type": "code",
      "source": [
        "import matplotlib.pyplot as plt\n",
        "import seaborn as sns\n",
        "from collections import Counter\n",
        "\n",
        "# Split multiple authors into list\n",
        "all_authors = []\n",
        "for a in df['authors'].dropna():\n",
        "    for name in a.split(\",\"):\n",
        "        all_authors.append(name.strip())\n",
        "\n",
        "author_counts = Counter(all_authors).most_common(10)\n",
        "\n",
        "# Plot top 10 authors\n",
        "plt.figure(figsize=(8,5))\n",
        "sns.barplot(x=[c[1] for c in author_counts], y=[c[0] for c in author_counts])\n",
        "plt.title(\"Top 10 Most Frequent Authors\")\n",
        "plt.xlabel(\"Number of Articles\")\n",
        "plt.ylabel(\"Author\")\n",
        "plt.show()\n"
      ],
      "metadata": {
        "colab": {
          "base_uri": "https://localhost:8080/",
          "height": 487
        },
        "id": "BgaDmyTyRAbh",
        "outputId": "a7a1b90f-ec22-408d-fd19-1cc7e6ca5184"
      },
      "execution_count": 7,
      "outputs": [
        {
          "output_type": "display_data",
          "data": {
            "text/plain": [
              "<Figure size 800x500 with 1 Axes>"
            ],
            "image/png": "[encoded data removed]"
          },
          "metadata": {}
        }
      ]
    },
    {
      "cell_type": "markdown",
      "source": [
        "import pandas as pd\n",
        "import matplotlib.pyplot as plt\n",
        "import seaborn as sns\n",
        "\n",
        "### Load dataset\n",
        "try:\n",
        "    df = pd.read_csv(\"/content/drive/My Drive/misc-unza25-csc4792-project_team9/unza_journals.csv\")\n",
        "except FileNotFoundError:\n",
        "    print(\"Error: 'unza_journals.csv' not found. Please ensure the file is in the correct directory.\")\n",
        "    # Optionally, exit or handle the error further if the dataframe is essential\n",
        "    exit() # Or some other error handling\n",
        "\n",
        "\n",
        "df[\"abstract_wordcount\"] = df[\"abstract\"].dropna().apply(lambda x: len(str(x).split()))\n",
        "\n",
        "plt.figure(figsize=(8,5))\n",
        "sns.histplot(df[\"abstract_wordcount\"], bins=20, kde=True)\n",
        "plt.title(\"Distribution of Abstract Lengths (Word Count)\")\n",
        "plt.xlabel(\"Word Count\")\n",
        "plt.ylabel(\"Number of Articles\")\n",
        "plt.show()"
      ],
      "metadata": {
        "id": "rcMR_8RRRDhb"
      }
    },
    {
      "cell_type": "code",
      "source": [
        "all_keywords = []\n",
        "for k in df['keywords'].dropna():\n",
        "    for word in k.replace(\"Keywords:\", \"\").replace(\"\\n\",\"\").split(\",\"):\n",
        "        word = word.strip().lower()\n",
        "        if word:\n",
        "            all_keywords.append(word)\n",
        "\n",
        "keyword_counts = Counter(all_keywords).most_common(15)\n",
        "\n",
        "plt.figure(figsize=(8,5))\n",
        "sns.barplot(x=[c[1] for c in keyword_counts], y=[c[0] for c in keyword_counts])\n",
        "plt.title(\"Top 15 Keywords Across Articles\")\n",
        "plt.xlabel(\"Frequency\")\n",
        "plt.ylabel(\"Keyword\")\n",
        "plt.show()\n"
      ],
      "metadata": {
        "colab": {
          "base_uri": "https://localhost:8080/",
          "height": 487
        },
        "id": "bMGq3xFpRNDC",
        "outputId": "125389f8-0644-4f0b-f362-4c8eb9e0b6a5"
      },
      "execution_count": 8,
      "outputs": [
        {
          "output_type": "display_data",
          "data": {
            "text/plain": [
              "<Figure size 800x500 with 1 Axes>"
            ],
            "image/png": "[encoded data removed]"
          },
          "metadata": {}
        }
      ]
    },
    {
      "cell_type": "code",
      "source": [
        "# Clean keywords column\n",
        "df[\"keywords\"] = (\n",
        "    df[\"keywords\"]\n",
        "    .fillna(\"\")\n",
        "    .str.replace(\"Keywords:\", \"\", regex=False)   # remove the prefix\n",
        "    .str.replace(r\"\\s+\", \" \", regex=True)        # collapse whitespace\n",
        "    .str.strip()                                 # trim leading/trailing spaces\n",
        ")\n"
      ],
      "metadata": {
        "id": "Dp_xNsuMRuKb"
      },
      "execution_count": 9,
      "outputs": []
    },
    {
      "cell_type": "code",
      "source": [
        "# Clean keywords column\n",
        "df[\"abstract\"] = (\n",
        "    df[\"abstract\"]\n",
        "    .fillna(\"\")\n",
        "    .str.replace(\"abstract:\", \"\", regex=False)   # remove the prefix\n",
        "    .str.replace(r\"\\s+\", \" \", regex=True)        # collapse whitespace\n",
        "    .str.strip()                                 # trim leading/trailing spaces\n",
        ")\n"
      ],
      "metadata": {
        "id": "cdM9TDH3TySs"
      },
      "execution_count": 10,
      "outputs": []
    },
    {
      "cell_type": "code",
      "source": [
        "import pandas as pd\n",
        "from collections import Counter\n",
        "\n",
        "def generate_summary(df):\n",
        "    summary = []\n",
        "\n",
        "    # Dataset shape\n",
        "    rows, cols = df.shape\n",
        "    summary.append(f\"The dataset contains **{rows} articles** with **{cols} columns**.\")\n",
        "\n",
        "    # Missing values\n",
        "    missing = df.isnull().sum()\n",
        "    missing_cols = missing[missing > 0]\n",
        "    if not missing_cols.empty:\n",
        "        summary.append(\"Some columns have missing values:\")\n",
        "        for col, val in missing_cols.items():\n",
        "            summary.append(f\"- {col}: {val} missing\")\n",
        "    else:\n",
        "        summary.append(\" There are no missing values in the dataset.\")\n",
        "\n",
        "    # Abstract word count\n",
        "    df[\"abstract_wordcount\"] = df[\"abstract\"].fillna(\"\").apply(lambda x: len(str(x).split()))\n",
        "    avg_len = df[\"abstract_wordcount\"].mean()\n",
        "    summary.append(f\" Abstracts have an average length of about **{avg_len:.0f} words**.\")\n",
        "\n",
        "    # Top authors\n",
        "    all_authors = []\n",
        "    for a in df['authors'].dropna():\n",
        "        for name in a.split(\",\"):\n",
        "            all_authors.append(name.strip())\n",
        "    author_counts = Counter(all_authors).most_common(5)\n",
        "    if author_counts:\n",
        "        summary.append(\"The most frequent authors are:\")\n",
        "        for name, count in author_counts:\n",
        "            summary.append(f\"- {name}: {count} article(s)\")\n",
        "\n",
        "    # Clean and extract keywords\n",
        "    df[\"keywords\"] = (\n",
        "        df[\"keywords\"]\n",
        "        .fillna(\"\")\n",
        "        .str.replace(\"Keywords:\", \"\", regex=False)\n",
        "        .str.replace(r\"\\s+\", \" \", regex=True)\n",
        "        .str.strip()\n",
        "    )\n",
        "    all_keywords = []\n",
        "    for k in df['keywords']:\n",
        "        for word in k.split(\",\"):\n",
        "            word = word.strip().lower()\n",
        "            if word:\n",
        "                all_keywords.append(word)\n",
        "    keyword_counts = Counter(all_keywords).most_common(5)\n",
        "    if keyword_counts:\n",
        "        summary.append(\"The most common keywords are:\")\n",
        "        for word, count in keyword_counts:\n",
        "            summary.append(f\"- {word}: {count} occurrence(s)\")\n",
        "\n",
        "    return \"\\n\".join(summary)\n",
        "\n",
        "# === Create summary ===\n",
        "print(generate_summary(df))"
      ],
      "metadata": {
        "colab": {
          "base_uri": "https://localhost:8080/"
        },
        "id": "0y2w3AnqSKEi",
        "outputId": "d0d74934-63be-4a5a-be63-f6aaa4610447"
      },
      "execution_count": 11,
      "outputs": [
        {
          "output_type": "stream",
          "name": "stdout",
          "text": [
            "The dataset contains **6 articles** with **5 columns**.\n",
            " There are no missing values in the dataset.\n",
            " Abstracts have an average length of about **244 words**.\n",
            "The most frequent authors are:\n",
            "- Noah K Sichula: 3 article(s)\n",
            "- Musonda Luchembe: 2 article(s)\n",
            "- Emmy H Mbozi: 2 article(s)\n",
            "- Mbale G Tamela: 1 article(s)\n",
            "- Madalitso K Banja: 1 article(s)\n",
            "The most common keywords are:\n",
            "- access to opportunities: 1 occurrence(s)\n",
            "- gender: 1 occurrence(s)\n",
            "- gender stereotyping: 1 occurrence(s)\n",
            "- male domination: 1 occurrence(s)\n",
            "- sports administration and leadership: 1 occurrence(s)\n"
          ]
        }
      ]
    },
    {
      "cell_type": "markdown",
      "source": [
        "### initial Summary\n",
        "The dataset contains **18 articles** with **6 columns**.\n",
        " There are no missing values in the dataset.\n",
        " Abstracts have an average length of about **275 words**.\n",
        "The most frequent authors are:\n",
        "- Brian Chanda Chiluba: 2 article(s)\n",
        "- Esther Munalula Nkandu: 2 article(s)\n",
        "- Munalula Muyangwa Munalula: 2 article(s)\n",
        "- Kris Kapp: 2 article(s)\n",
        "- Kweleka Mwanza: 1 article(s)\n",
        "The most common keywords are:\n",
        "- covid-19: 6 occurrence(s)\n",
        "- disability: 3 occurrence(s)\n",
        "- adolescent reproductive health: 2 occurrence(s)\n",
        "- anthrax: 1 occurrence(s)\n",
        "- bacillus anthracis: 1 occurrence(s)"
      ],
      "metadata": {
        "id": "aXChDRX3Sg4p"
      }
    },
    {
      "cell_type": "markdown",
      "source": [
        "# Data Preparation\n"
      ],
      "metadata": {
        "id": "8VISFNia0Lxq"
      }
    },
    {
      "cell_type": "markdown",
      "source": [
        "Set up the environment and load the data:"
      ],
      "metadata": {
        "id": "I7F5km33Cevk"
      }
    },
    {
      "cell_type": "code",
      "source": [
        "import pandas as pd\n",
        "import numpy as np\n",
        "import matplotlib.pyplot as plt\n",
        "import seaborn as sns\n",
        "import re\n",
        "from sklearn.preprocessing import LabelEncoder, StandardScaler\n",
        "from sklearn.feature_extraction.text import TfidfVectorizer\n",
        "import nltk\n",
        "from nltk.corpus import stopwords\n",
        "from nltk.stem import WordNetLemmatizer\n",
        "\n",
        "nltk.download('stopwords')\n",
        "nltk.download('wordnet')\n",
        "nltk.download('punkt')\n",
        "\n",
        "plt.style.use('seaborn-v0_8')\n",
        "try:\n",
        "    df = pd.read_csv(\"/content/drive/My Drive/misc-unza25-csc4792-project_team9/unza_journals.csv\")\n",
        "    print(\"Dataset loaded successfully!\")\n",
        "    print(f\"Shape: {df.shape}\")\n",
        "    print(\"\\nColumns:\", df.columns.tolist())\n",
        "except FileNotFoundError:\n",
        "    print(\"Error: 'unza_journals.csv' not found. Please ensure the file is in the correct directory.\")\n",
        "    exit()\n",
        "except Exception as e:\n",
        "    print(f\"An error occurred: {e}\")\n",
        "    exit()"
      ],
      "metadata": {
        "colab": {
          "base_uri": "https://localhost:8080/"
        },
        "id": "aI2b3ktDCgG-",
        "outputId": "2e43e072-9fbe-4f08-bfb5-0872725704df"
      },
      "execution_count": 12,
      "outputs": [
        {
          "output_type": "stream",
          "name": "stdout",
          "text": [
            "Dataset loaded successfully!\n",
            "Shape: (6, 5)\n",
            "\n",
            "Columns: ['title', 'authors', 'abstract', 'keywords', 'url']\n"
          ]
        },
        {
          "output_type": "stream",
          "name": "stderr",
          "text": [
            "[nltk_data] Downloading package stopwords to /root/nltk_data...\n",
            "[nltk_data]   Package stopwords is already up-to-date!\n",
            "[nltk_data] Downloading package wordnet to /root/nltk_data...\n",
            "[nltk_data]   Package wordnet is already up-to-date!\n",
            "[nltk_data] Downloading package punkt to /root/nltk_data...\n",
            "[nltk_data]   Package punkt is already up-to-date!\n"
          ]
        }
      ]
    },
    {
      "cell_type": "markdown",
      "source": [
        "\n",
        "Display basic information about the dataset"
      ],
      "metadata": {
        "id": "bf1-U8lkDd_o"
      }
    },
    {
      "cell_type": "code",
      "source": [
        "print(\"Dataset Info:\")\n",
        "print(df.info())\n",
        "print(\"\\nFirst 5 rows:\")\n",
        "print(df.head())\n",
        "print(\"\\nMissing values:\")\n",
        "print(df.isnull().sum())"
      ],
      "metadata": {
        "colab": {
          "base_uri": "https://localhost:8080/"
        },
        "id": "8odQsguMDk3K",
        "outputId": "58d43137-2db2-4413-85f7-a3dc27db4fae"
      },
      "execution_count": 13,
      "outputs": [
        {
          "output_type": "stream",
          "name": "stdout",
          "text": [
            "Dataset Info:\n",
            "<class 'pandas.core.frame.DataFrame'>\n",
            "RangeIndex: 6 entries, 0 to 5\n",
            "Data columns (total 5 columns):\n",
            " #   Column    Non-Null Count  Dtype \n",
            "---  ------    --------------  ----- \n",
            " 0   title     6 non-null      object\n",
            " 1   authors   6 non-null      object\n",
            " 2   abstract  6 non-null      object\n",
            " 3   keywords  6 non-null      object\n",
            " 4   url       6 non-null      object\n",
            "dtypes: object(5)\n",
            "memory usage: 372.0+ bytes\n",
            "None\n",
            "\n",
            "First 5 rows:\n",
            "                                               title  \\\n",
            "0  Politics of gender in sports administration an...   \n",
            "1  Distance education students’ experiences of in...   \n",
            "2  Social Cash Transfer mediating socio-economic ...   \n",
            "3  Theatre for development: a creative strategy f...   \n",
            "4  Youth and adult literacy in Zambia, alternativ...   \n",
            "\n",
            "                                             authors  \\\n",
            "0                  Mbale G Tamela, Madalitso K Banja   \n",
            "1  Musonda Luchembe, Peter C Sampa, Daniel L Mpol...   \n",
            "2  Serah Kabamba, Collins C Kayangula, Noah K Sic...   \n",
            "3                          Brian Kombe, Emmy H Mbozi   \n",
            "4                  Choolwe Kang'ombe, Noah K Sichula   \n",
            "\n",
            "                                            abstract  \\\n",
            "0  Abstract\\n\\t\\t\\t\\t\\tThis was a phenomenologica...   \n",
            "1  Abstract\\n\\t\\t\\t\\t\\tAlthough informal learning...   \n",
            "2  Abstract\\n\\t\\t\\t\\t\\tThe study aimed at investi...   \n",
            "3  Abstract\\n\\t\\t\\t\\t\\tThis article is based on a...   \n",
            "4  Abstract\\n\\t\\t\\t\\t\\tThis qualitative explorato...   \n",
            "\n",
            "                                            keywords  \\\n",
            "0  Keywords:\\n\\t\\t\\t\\t\\n\\n\\t\\t\\t\\t\\t\\t\\t\\t\\t\\t\\t\\...   \n",
            "1  Keywords:\\n\\t\\t\\t\\t\\n\\n\\t\\t\\t\\t\\t\\t\\t\\t\\t\\t\\t\\...   \n",
            "2  Keywords:\\n\\t\\t\\t\\t\\n\\n\\t\\t\\t\\t\\t\\t\\t\\t\\t\\t\\t\\...   \n",
            "3  Keywords:\\n\\t\\t\\t\\t\\n\\n\\t\\t\\t\\t\\t\\t\\t\\t\\t\\t\\t\\...   \n",
            "4  Keywords:\\n\\t\\t\\t\\t\\n\\n\\t\\t\\t\\t\\t\\t\\t\\t\\t\\t\\t\\...   \n",
            "\n",
            "                                                 url  \n",
            "0  https://journals.unza.zm/index.php/JAE/article...  \n",
            "1  https://journals.unza.zm/index.php/JAE/article...  \n",
            "2  https://journals.unza.zm/index.php/JAE/article...  \n",
            "3  https://journals.unza.zm/index.php/JAE/article...  \n",
            "4  https://journals.unza.zm/index.php/JAE/article...  \n",
            "\n",
            "Missing values:\n",
            "title       0\n",
            "authors     0\n",
            "abstract    0\n",
            "keywords    0\n",
            "url         0\n",
            "dtype: int64\n"
          ]
        }
      ]
    },
    {
      "cell_type": "markdown",
      "source": [
        "##3.1 Data Cleaning"
      ],
      "metadata": {
        "id": "aOAaWiiID3QY"
      }
    },
    {
      "cell_type": "code",
      "source": [
        "df_clean = df.copy()\n",
        "\n",
        "# Handle missing values - even though initial summary shows no missing, let's verify\n",
        "print(\"Missing values before cleaning:\")\n",
        "print(df_clean.isnull().sum())\n",
        "\n",
        "# Fill any potential missing values in text columns with empty strings\n",
        "text_columns = ['title', 'abstract', 'keywords', 'authors']\n",
        "for col in text_columns:\n",
        "    if col in df_clean.columns:\n",
        "        df_clean[col] = df_clean[col].fillna('')\n",
        "\n",
        "print(\"\\nMissing values after cleaning:\")\n",
        "print(df_clean.isnull().sum())\n",
        "\n",
        "# Clean text data function\n",
        "def clean_text(text):\n",
        "    if pd.isna(text):\n",
        "        return \"\"\n",
        "    text = str(text)\n",
        "    # Remove special characters and digits\n",
        "    text = re.sub(r'[^a-zA-Z\\s]', '', text)\n",
        "    # Convert to lowercase\n",
        "    text = text.lower()\n",
        "    # Remove extra whitespace\n",
        "    text = re.sub(r'\\s+', ' ', text).strip()\n",
        "    return text\n",
        "\n",
        "# Apply text cleaning to relevant columns\n",
        "for col in ['title', 'abstract', 'keywords']:\n",
        "    if col in df_clean.columns:\n",
        "        df_clean[col] = df_clean[col].apply(clean_text)\n",
        "        print(f\"Cleaned {col} column\")\n",
        "\n",
        "print(\"\\nSample of cleaned abstract:\")\n",
        "print(df_clean['abstract'].head(2))"
      ],
      "metadata": {
        "colab": {
          "base_uri": "https://localhost:8080/"
        },
        "id": "F8WVByi4-T_s",
        "outputId": "e9922ecc-a4d8-48d9-be9d-e6b3ae78ff89"
      },
      "execution_count": 14,
      "outputs": [
        {
          "output_type": "stream",
          "name": "stdout",
          "text": [
            "Missing values before cleaning:\n",
            "title       0\n",
            "authors     0\n",
            "abstract    0\n",
            "keywords    0\n",
            "url         0\n",
            "dtype: int64\n",
            "\n",
            "Missing values after cleaning:\n",
            "title       0\n",
            "authors     0\n",
            "abstract    0\n",
            "keywords    0\n",
            "url         0\n",
            "dtype: int64\n",
            "Cleaned title column\n",
            "Cleaned abstract column\n",
            "Cleaned keywords column\n",
            "\n",
            "Sample of cleaned abstract:\n",
            "0    abstract this was a phenomenological study aim...\n",
            "1    abstract although informal learning is an impo...\n",
            "Name: abstract, dtype: object\n"
          ]
        }
      ]
    },
    {
      "cell_type": "markdown",
      "source": [
        "##3.2 Feature Engineering"
      ],
      "metadata": {
        "id": "R9m-ewupXZV9"
      }
    },
    {
      "cell_type": "code",
      "source": [
        "import numpy as np\n",
        "import pandas as pd\n",
        "from sklearn.preprocessing import MultiLabelBinarizer\n",
        "\n",
        "print(\"Creating new features...\")\n",
        "\n",
        "# Abstract features\n",
        "df_clean['abstract_word_count'] = df_clean['abstract'].str.split().str.len()\n",
        "df_clean['abstract_char_count'] = df_clean['abstract'].str.len()\n",
        "df_clean['abstract_avg_word_length'] = np.where(\n",
        "    df_clean['abstract_word_count'] > 0,\n",
        "    df_clean['abstract_char_count'] / df_clean['abstract_word_count'],\n",
        "    0\n",
        ")\n",
        "\n",
        "# Title features\n",
        "df_clean['title_word_count'] = df_clean['title'].str.split().str.len()\n",
        "df_clean['title_char_count'] = df_clean['title'].str.len()\n",
        "\n",
        "# Author & keyword counts\n",
        "df_clean['num_authors'] = df_clean['authors'].fillna('').str.split(',').str.len()\n",
        "df_clean['num_keywords'] = df_clean['keywords'].fillna('').str.split(',').str.len()\n",
        "\n",
        "# Publication year\n",
        "if 'publication_date' in df_clean.columns:\n",
        "    df_clean['publication_year'] = pd.to_datetime(\n",
        "        df_clean['publication_date'], errors='coerce'\n",
        "    ).dt.year\n",
        "\n",
        "# Topic extraction\n",
        "topic_categories = {\n",
        "    'health': ['health', 'medical', 'disease', 'covid', 'pandemic', 'treatment'],\n",
        "    'education': ['education', 'learning', 'teaching', 'school', 'student'],\n",
        "    'technology': ['technology', 'digital', 'computer', 'software', 'internet'],\n",
        "    'social': ['social', 'community', 'society', 'cultural', 'behavior'],\n",
        "    'economic': ['economic', 'finance', 'business', 'market', 'investment'],\n",
        "    'environment': ['environment', 'climate', 'sustainability', 'conservation']\n",
        "}\n",
        "\n",
        "def extract_topics(keywords):\n",
        "    if pd.isna(keywords):\n",
        "        return ['other']\n",
        "    tokens = [kw.strip().lower() for kw in str(keywords).split(',')]\n",
        "    topics = [topic for topic, kw_list in topic_categories.items() if any(t in kw_list for t in tokens)]\n",
        "    return topics if topics else ['other']\n",
        "\n",
        "df_clean['topics'] = df_clean['keywords'].apply(extract_topics)\n",
        "\n",
        "# One-hot encode topics\n",
        "mlb = MultiLabelBinarizer()\n",
        "topic_dummies = pd.DataFrame(mlb.fit_transform(df_clean['topics']),\n",
        "                             columns=[f\"topic_{t}\" for t in mlb.classes_],\n",
        "                             index=df_clean.index)\n",
        "df_clean = pd.concat([df_clean, topic_dummies], axis=1)\n",
        "\n",
        "print(\"New features created successfully!\")\n"
      ],
      "metadata": {
        "colab": {
          "base_uri": "https://localhost:8080/"
        },
        "id": "nYW3auglXqHb",
        "outputId": "d310b7b4-f1c0-4a21-f040-1d950edb3e63"
      },
      "execution_count": 15,
      "outputs": [
        {
          "output_type": "stream",
          "name": "stdout",
          "text": [
            "Creating new features...\n",
            "New features created successfully!\n"
          ]
        }
      ]
    }
  ]
}